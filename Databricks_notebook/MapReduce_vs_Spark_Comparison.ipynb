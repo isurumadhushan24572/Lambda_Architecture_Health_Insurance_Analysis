{
 "cells": [
  {
   "cell_type": "markdown",
   "metadata": {
    "application/vnd.databricks.v1+cell": {
     "cellMetadata": {},
     "inputWidgets": {},
     "nuid": "53f9aa38-0a21-4564-a6e9-0b50efdcffc5",
     "showTitle": false,
     "tableResultSettingsMap": {},
     "title": ""
    }
   },
   "source": [
    "performance for counting records where Average_Supplier_Medicare_Payment_Amount > 100 in /mnt/silver/Medicare_DME_DS"
   ]
  },
  {
   "cell_type": "code",
   "execution_count": 0,
   "metadata": {
    "application/vnd.databricks.v1+cell": {
     "cellMetadata": {
      "byteLimit": 2048000,
      "rowLimit": 10000
     },
     "inputWidgets": {},
     "nuid": "088c4896-7788-4ab7-84d2-138974d0fc8e",
     "showTitle": false,
     "tableResultSettingsMap": {},
     "title": ""
    }
   },
   "outputs": [],
   "source": [
    "from pyspark.sql import SparkSession\n",
    "from pyspark.sql.functions import col\n",
    "import time\n",
    "\n",
    "# Ensure Spark session is active\n",
    "spark = SparkSession.builder.getOrCreate()\n"
   ]
  },
  {
   "cell_type": "code",
   "execution_count": 0,
   "metadata": {
    "application/vnd.databricks.v1+cell": {
     "cellMetadata": {
      "byteLimit": 2048000,
      "rowLimit": 10000
     },
     "inputWidgets": {},
     "nuid": "344bdf63-72ec-46ed-a1fe-d69f9e3d6576",
     "showTitle": false,
     "tableResultSettingsMap": {},
     "title": ""
    }
   },
   "outputs": [],
   "source": [
    "data = spark.read.parquet(\"/mnt/silver/Medicare_DME_DS\")"
   ]
  },
  {
   "cell_type": "code",
   "execution_count": 0,
   "metadata": {
    "application/vnd.databricks.v1+cell": {
     "cellMetadata": {
      "byteLimit": 2048000,
      "rowLimit": 10000
     },
     "inputWidgets": {},
     "nuid": "f1bad9c1-183c-46c0-9ba9-9511d061b364",
     "showTitle": false,
     "tableResultSettingsMap": {},
     "title": ""
    }
   },
   "outputs": [
    {
     "output_type": "stream",
     "name": "stdout",
     "output_type": "stream",
     "text": [
      "RDD Count: 134086, Time: 16.3663 seconds\n"
     ]
    }
   ],
   "source": [
    "start_rdd = time.time()\n",
    "\n",
    "rdd = data.rdd\n",
    "count_rdd = rdd.filter(\n",
    "    lambda row: row['Average_Supplier_Medicare_Payment_Amount'] is not None and \n",
    "                row['Average_Supplier_Medicare_Payment_Amount'] > 100\n",
    ").count()\n",
    "\n",
    "end_rdd = time.time()\n",
    "rdd_time = end_rdd - start_rdd\n",
    "\n",
    "print(f\"RDD Count: {count_rdd}, Time: {rdd_time:.4f} seconds\")\n"
   ]
  },
  {
   "cell_type": "code",
   "execution_count": 0,
   "metadata": {
    "application/vnd.databricks.v1+cell": {
     "cellMetadata": {
      "byteLimit": 2048000,
      "rowLimit": 10000
     },
     "inputWidgets": {},
     "nuid": "928c358f-b8f0-4167-8ba5-cee23fd7b0aa",
     "showTitle": false,
     "tableResultSettingsMap": {},
     "title": ""
    }
   },
   "outputs": [
    {
     "output_type": "stream",
     "name": "stdout",
     "output_type": "stream",
     "text": [
      "DataFrame Count: 134086, Time: 1.0356 seconds\n"
     ]
    }
   ],
   "source": [
    "start_df = time.time()\n",
    "\n",
    "count_df = data.filter(col(\"Average_Supplier_Medicare_Payment_Amount\") > 100).count()\n",
    "\n",
    "end_df = time.time()\n",
    "df_time = end_df - start_df\n",
    "\n",
    "print(f\"DataFrame Count: {count_df}, Time: {df_time:.4f} seconds\")\n"
   ]
  },
  {
   "cell_type": "code",
   "execution_count": 0,
   "metadata": {
    "application/vnd.databricks.v1+cell": {
     "cellMetadata": {
      "byteLimit": 2048000,
      "rowLimit": 10000
     },
     "inputWidgets": {},
     "nuid": "cdcfbda3-443a-407c-b11c-aa698864622e",
     "showTitle": false,
     "tableResultSettingsMap": {},
     "title": ""
    }
   },
   "outputs": [
    {
     "output_type": "display_data",
     "data": {
      "image/png": "[encoded data removed]",
      "text/plain": [
       "<Figure size 600x400 with 1 Axes>"
      ]
     },
     "metadata": {},
     "output_type": "display_data"
    }
   ],
   "source": [
    "import matplotlib.pyplot as plt\n",
    "\n",
    "# Labels and timing\n",
    "methods = ['RDD (MapReduce)', 'Spark DataFrame']\n",
    "times = [rdd_time, df_time]\n",
    "\n",
    "plt.figure(figsize=(6,4))\n",
    "plt.bar(methods, times, color=['skyblue', 'orange'])\n",
    "plt.ylabel('Execution Time (seconds)')\n",
    "plt.title('Performance Comparison')\n",
    "plt.grid(True, axis='y', linestyle='--', alpha=0.6)\n",
    "plt.show()\n"
   ]
  },
  {
   "cell_type": "code",
   "execution_count": 0,
   "metadata": {
    "application/vnd.databricks.v1+cell": {
     "cellMetadata": {
      "byteLimit": 2048000,
      "rowLimit": 10000
     },
     "inputWidgets": {},
     "nuid": "83a23a7a-9a0e-42be-8a92-7dda41aa8c29",
     "showTitle": false,
     "tableResultSettingsMap": {},
     "title": ""
    }
   },
   "outputs": [
    {
     "output_type": "display_data",
     "data": {
      "text/html": [
       "<style scoped>\n",
       "  .table-result-container {\n",
       "    max-height: 300px;\n",
       "    overflow: auto;\n",
       "  }\n",
       "  table, th, td {\n",
       "    border: 1px solid black;\n",
       "    border-collapse: collapse;\n",
       "  }\n",
       "  th, td {\n",
       "    padding: 5px;\n",
       "  }\n",
       "  th {\n",
       "    text-align: left;\n",
       "  }\n",
       "</style><div class='table-result-container'><table class='table-result'><thead style='background-color: white'><tr><th>Method</th><th>Record Count</th><th>Time (seconds)</th></tr></thead><tbody><tr><td>RDD (MapReduce)</td><td>134086</td><td>16.36628246307373</td></tr><tr><td>Spark DataFrame</td><td>134086</td><td>1.0355596542358398</td></tr></tbody></table></div>"
      ]
     },
     "metadata": {
      "application/vnd.databricks.v1+output": {
       "addedWidgets": {},
       "aggData": [],
       "aggError": "",
       "aggOverflow": false,
       "aggSchema": [],
       "aggSeriesLimitReached": false,
       "aggType": "",
       "arguments": {},
       "columnCustomDisplayInfos": {},
       "data": [
        [
         "RDD (MapReduce)",
         134086,
         16.36628246307373
        ],
        [
         "Spark DataFrame",
         134086,
         1.0355596542358398
        ]
       ],
       "datasetInfos": [],
       "dbfsResultPath": null,
       "isJsonSchema": true,
       "metadata": {},
       "overflow": false,
       "plotOptions": {
        "customPlotOptions": {},
        "displayType": "table",
        "pivotAggregation": null,
        "pivotColumns": null,
        "xColumns": null,
        "yColumns": null
       },
       "removedWidgets": [],
       "schema": [
        {
         "metadata": "{}",
         "name": "Method",
         "type": "\"string\""
        },
        {
         "metadata": "{}",
         "name": "Record Count",
         "type": "\"long\""
        },
        {
         "metadata": "{}",
         "name": "Time (seconds)",
         "type": "\"double\""
        }
       ],
       "type": "table"
      }
     },
     "output_type": "display_data"
    }
   ],
   "source": [
    "perf_data = spark.createDataFrame([\n",
    "    (\"RDD (MapReduce)\", count_rdd, rdd_time),\n",
    "    (\"Spark DataFrame\", count_df, df_time)\n",
    "], [\"Method\", \"Record Count\", \"Time (seconds)\"])\n",
    "\n",
    "display(perf_data)\n"
   ]
  }
 ],
 "metadata": {
  "application/vnd.databricks.v1+notebook": {
   "computePreferences": null,
   "dashboards": [],
   "environmentMetadata": {
    "base_environment": "",
    "environment_version": "2"
   },
   "inputWidgetPreferences": null,
   "language": "python",
   "notebookMetadata": {
    "pythonIndentUnit": 4
   },
   "notebookName": "MapReduce_vs_Spark_Comparison",
   "widgets": {}
  },
  "language_info": {
   "name": "python"
  }
 },
 "nbformat": 4,
 "nbformat_minor": 0
}