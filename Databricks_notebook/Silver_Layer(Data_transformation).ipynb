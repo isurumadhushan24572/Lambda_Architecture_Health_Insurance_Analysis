{
 "cells": [
  {
   "cell_type": "markdown",
   "metadata": {
    "application/vnd.databricks.v1+cell": {
     "cellMetadata": {
      "byteLimit": 2048000,
      "rowLimit": 10000
     },
     "inputWidgets": {},
     "nuid": "edd8ed34-46df-42fc-8ee4-7aa8d248ba08",
     "showTitle": false,
     "tableResultSettingsMap": {},
     "title": ""
    }
   },
   "source": [
    "# Silver Layer NoteBook"
   ]
  },
  {
   "cell_type": "markdown",
   "metadata": {
    "application/vnd.databricks.v1+cell": {
     "cellMetadata": {
      "byteLimit": 2048000,
      "rowLimit": 10000
     },
     "inputWidgets": {},
     "nuid": "76adf5a2-cd1a-47b7-838d-7671fa2048da",
     "showTitle": false,
     "tableResultSettingsMap": {},
     "title": ""
    }
   },
   "source": [
    "##### Mount Datalake "
   ]
  },
  {
   "cell_type": "code",
   "execution_count": 0,
   "metadata": {
    "application/vnd.databricks.v1+cell": {
     "cellMetadata": {
      "byteLimit": 2048000,
      "rowLimit": 10000
     },
     "inputWidgets": {},
     "nuid": "9f1ea15e-73b8-4201-833f-9e134b59214b",
     "showTitle": false,
     "tableResultSettingsMap": {},
     "title": ""
    }
   },
   "outputs": [],
   "source": [
    "# configs = {\"fs.azure.account.auth.type\": \"OAuth\",\n",
    "#           \"fs.azure.account.oauth.provider.type\": \"org.apache.hadoop.fs.azurebfs.oauth2.ClientCredsTokenProvider\",\n",
    "#           \"fs.azure.account.oauth2.client.id\": \"00689b21-a3d9-433e-9cf0-7b372b562098\",\n",
    "#           \"fs.azure.account.oauth2.client.secret\": \"<secret-key>\",\n",
    "#           \"fs.azure.account.oauth2.client.endpoint\": \"https://login.microsoftonline.com/06865a3a-3892-4636-8359-dd415777f2c4/oauth2/token\"}\n",
    "\n",
    "\n",
    "# dbutils.fs.mount(\n",
    "#   source = \"abfss://bronze@mylambdadatalake.dfs.core.windows.net/\",\n",
    "#   mount_point = \"/mnt/bronze\",\n",
    "#   extra_configs = configs)\n",
    "\n",
    "\n",
    "# dbutils.fs.mount(\n",
    "#   source = \"abfss://silver@mylambdadatalake.dfs.core.windows.net/\",\n",
    "#   mount_point = \"/mnt/silver\",\n",
    "#   extra_configs = configs)"
   ]
  },
  {
   "cell_type": "code",
   "execution_count": 0,
   "metadata": {
    "application/vnd.databricks.v1+cell": {
     "cellMetadata": {
      "byteLimit": 2048000,
      "rowLimit": 10000
     },
     "inputWidgets": {},
     "nuid": "b762f063-c846-45cb-ab20-23ed761b6ac7",
     "showTitle": false,
     "tableResultSettingsMap": {},
     "title": ""
    }
   },
   "outputs": [],
   "source": [
    "# Display the mount endpoints\n",
    "# mounts = dbutils.fs.mounts()\n",
    "# display(mounts)\n"
   ]
  },
  {
   "cell_type": "markdown",
   "metadata": {
    "application/vnd.databricks.v1+cell": {
     "cellMetadata": {
      "byteLimit": 2048000,
      "rowLimit": 10000
     },
     "inputWidgets": {},
     "nuid": "ef4aea38-2d96-4e97-b5d8-c001671ffa9f",
     "showTitle": false,
     "tableResultSettingsMap": {},
     "title": ""
    }
   },
   "source": [
    "### Loding Data Sets"
   ]
  },
  {
   "cell_type": "markdown",
   "metadata": {
    "application/vnd.databricks.v1+cell": {
     "cellMetadata": {
      "byteLimit": 2048000,
      "rowLimit": 10000
     },
     "inputWidgets": {},
     "nuid": "e36d8b26-2c62-4226-849b-4ddf643f7a71",
     "showTitle": false,
     "tableResultSettingsMap": {},
     "title": ""
    }
   },
   "source": [
    "### 1) Claims Dataset"
   ]
  },
  {
   "cell_type": "code",
   "execution_count": 0,
   "metadata": {
    "application/vnd.databricks.v1+cell": {
     "cellMetadata": {
      "byteLimit": 2048000,
      "rowLimit": 10000
     },
     "inputWidgets": {},
     "nuid": "97b24007-9d2c-48fe-8921-88c820127fb7",
     "showTitle": false,
     "tableResultSettingsMap": {},
     "title": ""
    }
   },
   "outputs": [
    {
     "data": {
      "text/plain": [
       "com.databricks.backend.common.rpc.CommandCancelledException\n",
       "\tat com.databricks.spark.chauffeur.SequenceExecutionState.$anonfun$cancel$5(SequenceExecutionState.scala:136)\n",
       "\tat scala.Option.getOrElse(Option.scala:189)\n",
       "\tat com.databricks.spark.chauffeur.SequenceExecutionState.$anonfun$cancel$3(SequenceExecutionState.scala:136)\n",
       "\tat com.databricks.spark.chauffeur.SequenceExecutionState.$anonfun$cancel$3$adapted(SequenceExecutionState.scala:133)\n",
       "\tat scala.collection.immutable.Range.foreach(Range.scala:158)\n",
       "\tat com.databricks.spark.chauffeur.SequenceExecutionState.cancel(SequenceExecutionState.scala:133)\n",
       "\tat com.databricks.spark.chauffeur.ExecContextState.cancelRunningSequence(ExecContextState.scala:728)\n",
       "\tat com.databricks.spark.chauffeur.ExecContextState.$anonfun$cancel$1(ExecContextState.scala:446)\n",
       "\tat scala.Option.getOrElse(Option.scala:189)\n",
       "\tat com.databricks.spark.chauffeur.ExecContextState.cancel(ExecContextState.scala:446)\n",
       "\tat com.databricks.spark.chauffeur.ExecutionContextManagerV1.cancelExecution(ExecutionContextManagerV1.scala:464)\n",
       "\tat com.databricks.spark.chauffeur.ChauffeurState.$anonfun$process$1(ChauffeurState.scala:571)\n",
       "\tat com.databricks.logging.UsageLogging.$anonfun$recordOperation$1(UsageLogging.scala:528)\n",
       "\tat com.databricks.logging.UsageLogging.executeThunkAndCaptureResultTags$1(UsageLogging.scala:633)\n",
       "\tat com.databricks.logging.UsageLogging.$anonfun$recordOperationWithResultTags$4(UsageLogging.scala:656)\n",
       "\tat com.databricks.logging.AttributionContextTracing.$anonfun$withAttributionContext$1(AttributionContextTracing.scala:48)\n",
       "\tat com.databricks.logging.AttributionContext$.$anonfun$withValue$1(AttributionContext.scala:276)\n",
       "\tat scala.util.DynamicVariable.withValue(DynamicVariable.scala:62)\n",
       "\tat com.databricks.logging.AttributionContext$.withValue(AttributionContext.scala:272)\n",
       "\tat com.databricks.logging.AttributionContextTracing.withAttributionContext(AttributionContextTracing.scala:46)\n",
       "\tat com.databricks.logging.AttributionContextTracing.withAttributionContext$(AttributionContextTracing.scala:43)\n",
       "\tat com.databricks.spark.chauffeur.ChauffeurState.withAttributionContext(ChauffeurState.scala:51)\n",
       "\tat com.databricks.logging.AttributionContextTracing.withAttributionTags(AttributionContextTracing.scala:95)\n",
       "\tat com.databricks.logging.AttributionContextTracing.withAttributionTags$(AttributionContextTracing.scala:76)\n",
       "\tat com.databricks.spark.chauffeur.ChauffeurState.withAttributionTags(ChauffeurState.scala:51)\n",
       "\tat com.databricks.logging.UsageLogging.recordOperationWithResultTags(UsageLogging.scala:628)\n",
       "\tat com.databricks.logging.UsageLogging.recordOperationWithResultTags$(UsageLogging.scala:537)\n",
       "\tat com.databricks.spark.chauffeur.ChauffeurState.recordOperationWithResultTags(ChauffeurState.scala:51)\n",
       "\tat com.databricks.logging.UsageLogging.recordOperation(UsageLogging.scala:529)\n",
       "\tat com.databricks.logging.UsageLogging.recordOperation$(UsageLogging.scala:495)\n",
       "\tat com.databricks.spark.chauffeur.ChauffeurState.recordOperation(ChauffeurState.scala:51)\n",
       "\tat com.databricks.spark.chauffeur.ChauffeurState.process(ChauffeurState.scala:553)\n",
       "\tat com.databricks.spark.chauffeur.Chauffeur$$anon$1$$anonfun$receive$1.handleDriverRequest$1(Chauffeur.scala:846)\n",
       "\tat com.databricks.spark.chauffeur.Chauffeur$$anon$1$$anonfun$receive$1.$anonfun$applyOrElse$5(Chauffeur.scala:872)\n",
       "\tat com.databricks.logging.UsageLogging.executeThunkAndCaptureResultTags$1(UsageLogging.scala:633)\n",
       "\tat com.databricks.logging.UsageLogging.$anonfun$recordOperationWithResultTags$4(UsageLogging.scala:656)\n",
       "\tat com.databricks.logging.AttributionContextTracing.$anonfun$withAttributionContext$1(AttributionContextTracing.scala:48)\n",
       "\tat com.databricks.logging.AttributionContext$.$anonfun$withValue$1(AttributionContext.scala:276)\n",
       "\tat scala.util.DynamicVariable.withValue(DynamicVariable.scala:62)\n",
       "\tat com.databricks.logging.AttributionContext$.withValue(AttributionContext.scala:272)\n",
       "\tat com.databricks.logging.AttributionContextTracing.withAttributionContext(AttributionContextTracing.scala:46)\n",
       "\tat com.databricks.logging.AttributionContextTracing.withAttributionContext$(AttributionContextTracing.scala:43)\n",
       "\tat com.databricks.rpc.ServerBackend.withAttributionContext(ServerBackend.scala:22)\n",
       "\tat com.databricks.logging.AttributionContextTracing.withAttributionTags(AttributionContextTracing.scala:95)\n",
       "\tat com.databricks.logging.AttributionContextTracing.withAttributionTags$(AttributionContextTracing.scala:76)\n",
       "\tat com.databricks.rpc.ServerBackend.withAttributionTags(ServerBackend.scala:22)\n",
       "\tat com.databricks.logging.UsageLogging.recordOperationWithResultTags(UsageLogging.scala:628)\n",
       "\tat com.databricks.logging.UsageLogging.recordOperationWithResultTags$(UsageLogging.scala:537)\n",
       "\tat com.databricks.rpc.ServerBackend.recordOperationWithResultTags(ServerBackend.scala:22)\n",
       "\tat com.databricks.spark.chauffeur.Chauffeur$$anon$1$$anonfun$receive$1.handleDriverRequestWithUsageLogging$1(Chauffeur.scala:871)\n",
       "\tat com.databricks.spark.chauffeur.Chauffeur$$anon$1$$anonfun$receive$1.applyOrElse(Chauffeur.scala:926)\n",
       "\tat com.databricks.spark.chauffeur.Chauffeur$$anon$1$$anonfun$receive$1.applyOrElse(Chauffeur.scala:719)\n",
       "\tat com.databricks.rpc.ServerBackend.$anonfun$internalReceive0$2(ServerBackend.scala:174)\n",
       "\tat com.databricks.rpc.ServerBackend$$anonfun$commonReceive$1.applyOrElse(ServerBackend.scala:200)\n",
       "\tat com.databricks.rpc.ServerBackend$$anonfun$commonReceive$1.applyOrElse(ServerBackend.scala:200)\n",
       "\tat com.databricks.rpc.ServerBackend.internalReceive0(ServerBackend.scala:171)\n",
       "\tat com.databricks.rpc.ServerBackend.$anonfun$internalReceive$1(ServerBackend.scala:147)\n",
       "\tat com.databricks.logging.UsageLogging.$anonfun$recordOperation$1(UsageLogging.scala:528)\n",
       "\tat com.databricks.logging.UsageLogging.executeThunkAndCaptureResultTags$1(UsageLogging.scala:633)\n",
       "\tat com.databricks.logging.UsageLogging.$anonfun$recordOperationWithResultTags$4(UsageLogging.scala:656)\n",
       "\tat com.databricks.logging.AttributionContextTracing.$anonfun$withAttributionContext$1(AttributionContextTracing.scala:48)\n",
       "\tat com.databricks.logging.AttributionContext$.$anonfun$withValue$1(AttributionContext.scala:276)\n",
       "\tat scala.util.DynamicVariable.withValue(DynamicVariable.scala:62)\n",
       "\tat com.databricks.logging.AttributionContext$.withValue(AttributionContext.scala:272)\n",
       "\tat com.databricks.logging.AttributionContextTracing.withAttributionContext(AttributionContextTracing.scala:46)\n",
       "\tat com.databricks.logging.AttributionContextTracing.withAttributionContext$(AttributionContextTracing.scala:43)\n",
       "\tat com.databricks.rpc.ServerBackend.withAttributionContext(ServerBackend.scala:22)\n",
       "\tat com.databricks.logging.AttributionContextTracing.withAttributionTags(AttributionContextTracing.scala:95)\n",
       "\tat com.databricks.logging.AttributionContextTracing.withAttributionTags$(AttributionContextTracing.scala:76)\n",
       "\tat com.databricks.rpc.ServerBackend.withAttributionTags(ServerBackend.scala:22)\n",
       "\tat com.databricks.logging.UsageLogging.recordOperationWithResultTags(UsageLogging.scala:628)\n",
       "\tat com.databricks.logging.UsageLogging.recordOperationWithResultTags$(UsageLogging.scala:537)\n",
       "\tat com.databricks.rpc.ServerBackend.recordOperationWithResultTags(ServerBackend.scala:22)\n",
       "\tat com.databricks.logging.UsageLogging.recordOperation(UsageLogging.scala:529)\n",
       "\tat com.databricks.logging.UsageLogging.recordOperation$(UsageLogging.scala:495)\n",
       "\tat com.databricks.rpc.ServerBackend.recordOperation(ServerBackend.scala:22)\n",
       "\tat com.databricks.rpc.ServerBackend.internalReceive(ServerBackend.scala:146)\n",
       "\tat com.databricks.rpc.JettyServer$RequestManager.handleRPC(JettyServer.scala:1021)\n",
       "\tat com.databricks.rpc.JettyServer$RequestManager.handleRequestAndRespond(JettyServer.scala:942)\n",
       "\tat com.databricks.rpc.JettyServer$RequestManager.$anonfun$handleHttp$6(JettyServer.scala:546)\n",
       "\tat com.databricks.rpc.JettyServer$RequestManager.$anonfun$handleHttp$6$adapted(JettyServer.scala:515)\n",
       "\tat com.databricks.logging.activity.ActivityContextFactory$.$anonfun$withActivityInternal$6(ActivityContextFactory.scala:545)\n",
       "\tat com.databricks.logging.AttributionContextTracing.$anonfun$withAttributionContext$1(AttributionContextTracing.scala:48)\n",
       "\tat com.databricks.logging.AttributionContext$.$anonfun$withValue$1(AttributionContext.scala:276)\n",
       "\tat scala.util.DynamicVariable.withValue(DynamicVariable.scala:62)\n",
       "\tat com.databricks.logging.AttributionContext$.withValue(AttributionContext.scala:272)\n",
       "\tat com.databricks.logging.AttributionContextTracing.withAttributionContext(AttributionContextTracing.scala:46)\n",
       "\tat com.databricks.logging.AttributionContextTracing.withAttributionContext$(AttributionContextTracing.scala:43)\n",
       "\tat com.databricks.logging.activity.ActivityContextFactory$.withAttributionContext(ActivityContextFactory.scala:48)\n",
       "\tat com.databricks.logging.activity.ActivityContextFactory$.$anonfun$withActivityInternal$3(ActivityContextFactory.scala:545)\n",
       "\tat com.databricks.context.integrity.IntegrityCheckContext$ThreadLocalStorage$.withValue(IntegrityCheckContext.scala:73)\n",
       "\tat com.databricks.logging.activity.ActivityContextFactory$.withActivityInternal(ActivityContextFactory.scala:523)\n",
       "\tat com.databricks.logging.activity.ActivityContextFactory$.withServiceRequestActivity(ActivityContextFactory.scala:175)\n",
       "\tat com.databricks.rpc.JettyServer$RequestManager.handleHttp(JettyServer.scala:515)\n",
       "\tat com.databricks.rpc.JettyServer$RequestManager.doPost(JettyServer.scala:405)\n",
       "\tat javax.servlet.http.HttpServlet.service(HttpServlet.java:665)\n",
       "\tat com.databricks.rpc.HttpServletWithPatch.service(HttpServletWithPatch.scala:33)\n",
       "\tat javax.servlet.http.HttpServlet.service(HttpServlet.java:750)\n",
       "\tat org.eclipse.jetty.servlet.ServletHolder.handle(ServletHolder.java:799)\n",
       "\tat org.eclipse.jetty.servlet.ServletHandler.doHandle(ServletHandler.java:554)\n",
       "\tat org.eclipse.jetty.server.handler.ScopedHandler.nextScope(ScopedHandler.java:190)\n",
       "\tat org.eclipse.jetty.servlet.ServletHandler.doScope(ServletHandler.java:505)\n",
       "\tat org.eclipse.jetty.server.handler.ScopedHandler.handle(ScopedHandler.java:141)\n",
       "\tat org.eclipse.jetty.server.handler.HandlerWrapper.handle(HandlerWrapper.java:127)\n",
       "\tat org.eclipse.jetty.server.Server.handle(Server.java:516)\n",
       "\tat org.eclipse.jetty.server.HttpChannel.lambda$handle$1(HttpChannel.java:487)\n",
       "\tat org.eclipse.jetty.server.HttpChannel.dispatch(HttpChannel.java:732)\n",
       "\tat org.eclipse.jetty.server.HttpChannel.handle(HttpChannel.java:479)\n",
       "\tat org.eclipse.jetty.server.HttpConnection.onFillable(HttpConnection.java:277)\n",
       "\tat org.eclipse.jetty.io.AbstractConnection$ReadCallback.succeeded(AbstractConnection.java:311)\n",
       "\tat org.eclipse.jetty.io.FillInterest.fillable(FillInterest.java:105)\n",
       "\tat org.eclipse.jetty.io.ssl.SslConnection$DecryptedEndPoint.onFillable(SslConnection.java:555)\n",
       "\tat org.eclipse.jetty.io.ssl.SslConnection.onFillable(SslConnection.java:410)\n",
       "\tat org.eclipse.jetty.io.ssl.SslConnection$2.succeeded(SslConnection.java:164)\n",
       "\tat org.eclipse.jetty.io.FillInterest.fillable(FillInterest.java:105)\n",
       "\tat org.eclipse.jetty.io.ChannelEndPoint$1.run(ChannelEndPoint.java:104)\n",
       "\tat org.eclipse.jetty.util.thread.strategy.EatWhatYouKill.runTask(EatWhatYouKill.java:338)\n",
       "\tat org.eclipse.jetty.util.thread.strategy.EatWhatYouKill.doProduce(EatWhatYouKill.java:315)\n",
       "\tat org.eclipse.jetty.util.thread.strategy.EatWhatYouKill.tryProduce(EatWhatYouKill.java:173)\n",
       "\tat org.eclipse.jetty.util.thread.strategy.EatWhatYouKill.run(EatWhatYouKill.java:131)\n",
       "\tat org.eclipse.jetty.util.thread.ReservedThreadExecutor$ReservedThread.run(ReservedThreadExecutor.java:409)\n",
       "\tat com.databricks.rpc.InstrumentedQueuedThreadPool$$anon$1.$anonfun$run$2(InstrumentedQueuedThreadPool.scala:105)\n",
       "\tat scala.runtime.java8.JFunction0$mcV$sp.apply(JFunction0$mcV$sp.java:23)\n",
       "\tat com.databricks.logging.AttributionContextTracing.$anonfun$withAttributionContext$1(AttributionContextTracing.scala:48)\n",
       "\tat com.databricks.logging.AttributionContext$.$anonfun$withValue$1(AttributionContext.scala:276)\n",
       "\tat scala.util.DynamicVariable.withValue(DynamicVariable.scala:62)\n",
       "\tat com.databricks.logging.AttributionContext$.withValue(AttributionContext.scala:272)\n",
       "\tat com.databricks.logging.AttributionContextTracing.withAttributionContext(AttributionContextTracing.scala:46)\n",
       "\tat com.databricks.logging.AttributionContextTracing.withAttributionContext$(AttributionContextTracing.scala:43)\n",
       "\tat com.databricks.rpc.InstrumentedQueuedThreadPool.withAttributionContext(InstrumentedQueuedThreadPool.scala:45)\n",
       "\tat com.databricks.rpc.InstrumentedQueuedThreadPool$$anon$1.$anonfun$run$1(InstrumentedQueuedThreadPool.scala:105)\n",
       "\tat scala.runtime.java8.JFunction0$mcV$sp.apply(JFunction0$mcV$sp.java:23)\n",
       "\tat com.databricks.instrumentation.QueuedThreadPoolInstrumenter.trackActiveThreads(QueuedThreadPoolInstrumenter.scala:110)\n",
       "\tat com.databricks.instrumentation.QueuedThreadPoolInstrumenter.trackActiveThreads$(QueuedThreadPoolInstrumenter.scala:107)\n",
       "\tat com.databricks.rpc.InstrumentedQueuedThreadPool.trackActiveThreads(InstrumentedQueuedThreadPool.scala:45)\n",
       "\tat com.databricks.rpc.InstrumentedQueuedThreadPool$$anon$1.run(InstrumentedQueuedThreadPool.scala:87)\n",
       "\tat org.eclipse.jetty.util.thread.QueuedThreadPool.runJob(QueuedThreadPool.java:883)\n",
       "\tat org.eclipse.jetty.util.thread.QueuedThreadPool$Runner.run(QueuedThreadPool.java:1034)\n",
       "\tat java.lang.Thread.run(Thread.java:750)"
      ]
     },
     "metadata": {
      "application/vnd.databricks.v1+output": {
       "addedWidgets": {},
       "arguments": {},
       "datasetInfos": [],
       "jupyterProps": null,
       "metadata": {
        "errorSummary": "Cancelled"
       },
       "removedWidgets": [],
       "sqlProps": null,
       "stackFrames": [
        "com.databricks.backend.common.rpc.CommandCancelledException",
        "\tat com.databricks.spark.chauffeur.SequenceExecutionState.$anonfun$cancel$5(SequenceExecutionState.scala:136)",
        "\tat scala.Option.getOrElse(Option.scala:189)",
        "\tat com.databricks.spark.chauffeur.SequenceExecutionState.$anonfun$cancel$3(SequenceExecutionState.scala:136)",
        "\tat com.databricks.spark.chauffeur.SequenceExecutionState.$anonfun$cancel$3$adapted(SequenceExecutionState.scala:133)",
        "\tat scala.collection.immutable.Range.foreach(Range.scala:158)",
        "\tat com.databricks.spark.chauffeur.SequenceExecutionState.cancel(SequenceExecutionState.scala:133)",
        "\tat com.databricks.spark.chauffeur.ExecContextState.cancelRunningSequence(ExecContextState.scala:728)",
        "\tat com.databricks.spark.chauffeur.ExecContextState.$anonfun$cancel$1(ExecContextState.scala:446)",
        "\tat scala.Option.getOrElse(Option.scala:189)",
        "\tat com.databricks.spark.chauffeur.ExecContextState.cancel(ExecContextState.scala:446)",
        "\tat com.databricks.spark.chauffeur.ExecutionContextManagerV1.cancelExecution(ExecutionContextManagerV1.scala:464)",
        "\tat com.databricks.spark.chauffeur.ChauffeurState.$anonfun$process$1(ChauffeurState.scala:571)",
        "\tat com.databricks.logging.UsageLogging.$anonfun$recordOperation$1(UsageLogging.scala:528)",
        "\tat com.databricks.logging.UsageLogging.executeThunkAndCaptureResultTags$1(UsageLogging.scala:633)",
        "\tat com.databricks.logging.UsageLogging.$anonfun$recordOperationWithResultTags$4(UsageLogging.scala:656)",
        "\tat com.databricks.logging.AttributionContextTracing.$anonfun$withAttributionContext$1(AttributionContextTracing.scala:48)",
        "\tat com.databricks.logging.AttributionContext$.$anonfun$withValue$1(AttributionContext.scala:276)",
        "\tat scala.util.DynamicVariable.withValue(DynamicVariable.scala:62)",
        "\tat com.databricks.logging.AttributionContext$.withValue(AttributionContext.scala:272)",
        "\tat com.databricks.logging.AttributionContextTracing.withAttributionContext(AttributionContextTracing.scala:46)",
        "\tat com.databricks.logging.AttributionContextTracing.withAttributionContext$(AttributionContextTracing.scala:43)",
        "\tat com.databricks.spark.chauffeur.ChauffeurState.withAttributionContext(ChauffeurState.scala:51)",
        "\tat com.databricks.logging.AttributionContextTracing.withAttributionTags(AttributionContextTracing.scala:95)",
        "\tat com.databricks.logging.AttributionContextTracing.withAttributionTags$(AttributionContextTracing.scala:76)",
        "\tat com.databricks.spark.chauffeur.ChauffeurState.withAttributionTags(ChauffeurState.scala:51)",
        "\tat com.databricks.logging.UsageLogging.recordOperationWithResultTags(UsageLogging.scala:628)",
        "\tat com.databricks.logging.UsageLogging.recordOperationWithResultTags$(UsageLogging.scala:537)",
        "\tat com.databricks.spark.chauffeur.ChauffeurState.recordOperationWithResultTags(ChauffeurState.scala:51)",
        "\tat com.databricks.logging.UsageLogging.recordOperation(UsageLogging.scala:529)",
        "\tat com.databricks.logging.UsageLogging.recordOperation$(UsageLogging.scala:495)",
        "\tat com.databricks.spark.chauffeur.ChauffeurState.recordOperation(ChauffeurState.scala:51)",
        "\tat com.databricks.spark.chauffeur.ChauffeurState.process(ChauffeurState.scala:553)",
        "\tat com.databricks.spark.chauffeur.Chauffeur$$anon$1$$anonfun$receive$1.handleDriverRequest$1(Chauffeur.scala:846)",
        "\tat com.databricks.spark.chauffeur.Chauffeur$$anon$1$$anonfun$receive$1.$anonfun$applyOrElse$5(Chauffeur.scala:872)",
        "\tat com.databricks.logging.UsageLogging.executeThunkAndCaptureResultTags$1(UsageLogging.scala:633)",
        "\tat com.databricks.logging.UsageLogging.$anonfun$recordOperationWithResultTags$4(UsageLogging.scala:656)",
        "\tat com.databricks.logging.AttributionContextTracing.$anonfun$withAttributionContext$1(AttributionContextTracing.scala:48)",
        "\tat com.databricks.logging.AttributionContext$.$anonfun$withValue$1(AttributionContext.scala:276)",
        "\tat scala.util.DynamicVariable.withValue(DynamicVariable.scala:62)",
        "\tat com.databricks.logging.AttributionContext$.withValue(AttributionContext.scala:272)",
        "\tat com.databricks.logging.AttributionContextTracing.withAttributionContext(AttributionContextTracing.scala:46)",
        "\tat com.databricks.logging.AttributionContextTracing.withAttributionContext$(AttributionContextTracing.scala:43)",
        "\tat com.databricks.rpc.ServerBackend.withAttributionContext(ServerBackend.scala:22)",
        "\tat com.databricks.logging.AttributionContextTracing.withAttributionTags(AttributionContextTracing.scala:95)",
        "\tat com.databricks.logging.AttributionContextTracing.withAttributionTags$(AttributionContextTracing.scala:76)",
        "\tat com.databricks.rpc.ServerBackend.withAttributionTags(ServerBackend.scala:22)",
        "\tat com.databricks.logging.UsageLogging.recordOperationWithResultTags(UsageLogging.scala:628)",
        "\tat com.databricks.logging.UsageLogging.recordOperationWithResultTags$(UsageLogging.scala:537)",
        "\tat com.databricks.rpc.ServerBackend.recordOperationWithResultTags(ServerBackend.scala:22)",
        "\tat com.databricks.spark.chauffeur.Chauffeur$$anon$1$$anonfun$receive$1.handleDriverRequestWithUsageLogging$1(Chauffeur.scala:871)",
        "\tat com.databricks.spark.chauffeur.Chauffeur$$anon$1$$anonfun$receive$1.applyOrElse(Chauffeur.scala:926)",
        "\tat com.databricks.spark.chauffeur.Chauffeur$$anon$1$$anonfun$receive$1.applyOrElse(Chauffeur.scala:719)",
        "\tat com.databricks.rpc.ServerBackend.$anonfun$internalReceive0$2(ServerBackend.scala:174)",
        "\tat com.databricks.rpc.ServerBackend$$anonfun$commonReceive$1.applyOrElse(ServerBackend.scala:200)",
        "\tat com.databricks.rpc.ServerBackend$$anonfun$commonReceive$1.applyOrElse(ServerBackend.scala:200)",
        "\tat com.databricks.rpc.ServerBackend.internalReceive0(ServerBackend.scala:171)",
        "\tat com.databricks.rpc.ServerBackend.$anonfun$internalReceive$1(ServerBackend.scala:147)",
        "\tat com.databricks.logging.UsageLogging.$anonfun$recordOperation$1(UsageLogging.scala:528)",
        "\tat com.databricks.logging.UsageLogging.executeThunkAndCaptureResultTags$1(UsageLogging.scala:633)",
        "\tat com.databricks.logging.UsageLogging.$anonfun$recordOperationWithResultTags$4(UsageLogging.scala:656)",
        "\tat com.databricks.logging.AttributionContextTracing.$anonfun$withAttributionContext$1(AttributionContextTracing.scala:48)",
        "\tat com.databricks.logging.AttributionContext$.$anonfun$withValue$1(AttributionContext.scala:276)",
        "\tat scala.util.DynamicVariable.withValue(DynamicVariable.scala:62)",
        "\tat com.databricks.logging.AttributionContext$.withValue(AttributionContext.scala:272)",
        "\tat com.databricks.logging.AttributionContextTracing.withAttributionContext(AttributionContextTracing.scala:46)",
        "\tat com.databricks.logging.AttributionContextTracing.withAttributionContext$(AttributionContextTracing.scala:43)",
        "\tat com.databricks.rpc.ServerBackend.withAttributionContext(ServerBackend.scala:22)",
        "\tat com.databricks.logging.AttributionContextTracing.withAttributionTags(AttributionContextTracing.scala:95)",
        "\tat com.databricks.logging.AttributionContextTracing.withAttributionTags$(AttributionContextTracing.scala:76)",
        "\tat com.databricks.rpc.ServerBackend.withAttributionTags(ServerBackend.scala:22)",
        "\tat com.databricks.logging.UsageLogging.recordOperationWithResultTags(UsageLogging.scala:628)",
        "\tat com.databricks.logging.UsageLogging.recordOperationWithResultTags$(UsageLogging.scala:537)",
        "\tat com.databricks.rpc.ServerBackend.recordOperationWithResultTags(ServerBackend.scala:22)",
        "\tat com.databricks.logging.UsageLogging.recordOperation(UsageLogging.scala:529)",
        "\tat com.databricks.logging.UsageLogging.recordOperation$(UsageLogging.scala:495)",
        "\tat com.databricks.rpc.ServerBackend.recordOperation(ServerBackend.scala:22)",
        "\tat com.databricks.rpc.ServerBackend.internalReceive(ServerBackend.scala:146)",
        "\tat com.databricks.rpc.JettyServer$RequestManager.handleRPC(JettyServer.scala:1021)",
        "\tat com.databricks.rpc.JettyServer$RequestManager.handleRequestAndRespond(JettyServer.scala:942)",
        "\tat com.databricks.rpc.JettyServer$RequestManager.$anonfun$handleHttp$6(JettyServer.scala:546)",
        "\tat com.databricks.rpc.JettyServer$RequestManager.$anonfun$handleHttp$6$adapted(JettyServer.scala:515)",
        "\tat com.databricks.logging.activity.ActivityContextFactory$.$anonfun$withActivityInternal$6(ActivityContextFactory.scala:545)",
        "\tat com.databricks.logging.AttributionContextTracing.$anonfun$withAttributionContext$1(AttributionContextTracing.scala:48)",
        "\tat com.databricks.logging.AttributionContext$.$anonfun$withValue$1(AttributionContext.scala:276)",
        "\tat scala.util.DynamicVariable.withValue(DynamicVariable.scala:62)",
        "\tat com.databricks.logging.AttributionContext$.withValue(AttributionContext.scala:272)",
        "\tat com.databricks.logging.AttributionContextTracing.withAttributionContext(AttributionContextTracing.scala:46)",
        "\tat com.databricks.logging.AttributionContextTracing.withAttributionContext$(AttributionContextTracing.scala:43)",
        "\tat com.databricks.logging.activity.ActivityContextFactory$.withAttributionContext(ActivityContextFactory.scala:48)",
        "\tat com.databricks.logging.activity.ActivityContextFactory$.$anonfun$withActivityInternal$3(ActivityContextFactory.scala:545)",
        "\tat com.databricks.context.integrity.IntegrityCheckContext$ThreadLocalStorage$.withValue(IntegrityCheckContext.scala:73)",
        "\tat com.databricks.logging.activity.ActivityContextFactory$.withActivityInternal(ActivityContextFactory.scala:523)",
        "\tat com.databricks.logging.activity.ActivityContextFactory$.withServiceRequestActivity(ActivityContextFactory.scala:175)",
        "\tat com.databricks.rpc.JettyServer$RequestManager.handleHttp(JettyServer.scala:515)",
        "\tat com.databricks.rpc.JettyServer$RequestManager.doPost(JettyServer.scala:405)",
        "\tat javax.servlet.http.HttpServlet.service(HttpServlet.java:665)",
        "\tat com.databricks.rpc.HttpServletWithPatch.service(HttpServletWithPatch.scala:33)",
        "\tat javax.servlet.http.HttpServlet.service(HttpServlet.java:750)",
        "\tat org.eclipse.jetty.servlet.ServletHolder.handle(ServletHolder.java:799)",
        "\tat org.eclipse.jetty.servlet.ServletHandler.doHandle(ServletHandler.java:554)",
        "\tat org.eclipse.jetty.server.handler.ScopedHandler.nextScope(ScopedHandler.java:190)",
        "\tat org.eclipse.jetty.servlet.ServletHandler.doScope(ServletHandler.java:505)",
        "\tat org.eclipse.jetty.server.handler.ScopedHandler.handle(ScopedHandler.java:141)",
        "\tat org.eclipse.jetty.server.handler.HandlerWrapper.handle(HandlerWrapper.java:127)",
        "\tat org.eclipse.jetty.server.Server.handle(Server.java:516)",
        "\tat org.eclipse.jetty.server.HttpChannel.lambda$handle$1(HttpChannel.java:487)",
        "\tat org.eclipse.jetty.server.HttpChannel.dispatch(HttpChannel.java:732)",
        "\tat org.eclipse.jetty.server.HttpChannel.handle(HttpChannel.java:479)",
        "\tat org.eclipse.jetty.server.HttpConnection.onFillable(HttpConnection.java:277)",
        "\tat org.eclipse.jetty.io.AbstractConnection$ReadCallback.succeeded(AbstractConnection.java:311)",
        "\tat org.eclipse.jetty.io.FillInterest.fillable(FillInterest.java:105)",
        "\tat org.eclipse.jetty.io.ssl.SslConnection$DecryptedEndPoint.onFillable(SslConnection.java:555)",
        "\tat org.eclipse.jetty.io.ssl.SslConnection.onFillable(SslConnection.java:410)",
        "\tat org.eclipse.jetty.io.ssl.SslConnection$2.succeeded(SslConnection.java:164)",
        "\tat org.eclipse.jetty.io.FillInterest.fillable(FillInterest.java:105)",
        "\tat org.eclipse.jetty.io.ChannelEndPoint$1.run(ChannelEndPoint.java:104)",
        "\tat org.eclipse.jetty.util.thread.strategy.EatWhatYouKill.runTask(EatWhatYouKill.java:338)",
        "\tat org.eclipse.jetty.util.thread.strategy.EatWhatYouKill.doProduce(EatWhatYouKill.java:315)",
        "\tat org.eclipse.jetty.util.thread.strategy.EatWhatYouKill.tryProduce(EatWhatYouKill.java:173)",
        "\tat org.eclipse.jetty.util.thread.strategy.EatWhatYouKill.run(EatWhatYouKill.java:131)",
        "\tat org.eclipse.jetty.util.thread.ReservedThreadExecutor$ReservedThread.run(ReservedThreadExecutor.java:409)",
        "\tat com.databricks.rpc.InstrumentedQueuedThreadPool$$anon$1.$anonfun$run$2(InstrumentedQueuedThreadPool.scala:105)",
        "\tat scala.runtime.java8.JFunction0$mcV$sp.apply(JFunction0$mcV$sp.java:23)",
        "\tat com.databricks.logging.AttributionContextTracing.$anonfun$withAttributionContext$1(AttributionContextTracing.scala:48)",
        "\tat com.databricks.logging.AttributionContext$.$anonfun$withValue$1(AttributionContext.scala:276)",
        "\tat scala.util.DynamicVariable.withValue(DynamicVariable.scala:62)",
        "\tat com.databricks.logging.AttributionContext$.withValue(AttributionContext.scala:272)",
        "\tat com.databricks.logging.AttributionContextTracing.withAttributionContext(AttributionContextTracing.scala:46)",
        "\tat com.databricks.logging.AttributionContextTracing.withAttributionContext$(AttributionContextTracing.scala:43)",
        "\tat com.databricks.rpc.InstrumentedQueuedThreadPool.withAttributionContext(InstrumentedQueuedThreadPool.scala:45)",
        "\tat com.databricks.rpc.InstrumentedQueuedThreadPool$$anon$1.$anonfun$run$1(InstrumentedQueuedThreadPool.scala:105)",
        "\tat scala.runtime.java8.JFunction0$mcV$sp.apply(JFunction0$mcV$sp.java:23)",
        "\tat com.databricks.instrumentation.QueuedThreadPoolInstrumenter.trackActiveThreads(QueuedThreadPoolInstrumenter.scala:110)",
        "\tat com.databricks.instrumentation.QueuedThreadPoolInstrumenter.trackActiveThreads$(QueuedThreadPoolInstrumenter.scala:107)",
        "\tat com.databricks.rpc.InstrumentedQueuedThreadPool.trackActiveThreads(InstrumentedQueuedThreadPool.scala:45)",
        "\tat com.databricks.rpc.InstrumentedQueuedThreadPool$$anon$1.run(InstrumentedQueuedThreadPool.scala:87)",
        "\tat org.eclipse.jetty.util.thread.QueuedThreadPool.runJob(QueuedThreadPool.java:883)",
        "\tat org.eclipse.jetty.util.thread.QueuedThreadPool$Runner.run(QueuedThreadPool.java:1034)",
        "\tat java.lang.Thread.run(Thread.java:750)"
       ],
       "type": "baseError"
      }
     },
     "output_type": "display_data"
    }
   ],
   "source": [
    "from pyspark.sql.types import StructType, StructField, StringType, IntegerType, DoubleType\n",
    "\n",
    "schema = StructType([\n",
    "    StructField(\"Facility Name\", StringType(), True),\n",
    "    StructField(\"Facility ID\", IntegerType(), True),\n",
    "    StructField(\"State\", StringType(), True),\n",
    "    StructField(\"Period\", StringType(), True),\n",
    "    StructField(\"Claim Type\", StringType(), True),\n",
    "    StructField(\"Avg Spndg Per EP Hospital\", DoubleType(), True),\n",
    "    StructField(\"Avg Spndg Per EP State\", DoubleType(), True),\n",
    "    StructField(\"Avg Spndg Per EP National\", DoubleType(), True),\n",
    "    StructField(\"Percent of Spndg Hospital\", StringType(), True),\n",
    "    StructField(\"Percent of Spndg State\", StringType(), True),\n",
    "    StructField(\"Percent of Spndg National\", StringType(), True),\n",
    "    StructField(\"Start Date\", StringType(), True),\n",
    "    StructField(\"End Date\", StringType(), True)\n",
    "])"
   ]
  },
  {
   "cell_type": "code",
   "execution_count": 0,
   "metadata": {
    "application/vnd.databricks.v1+cell": {
     "cellMetadata": {
      "byteLimit": 2048000,
      "rowLimit": 10000
     },
     "inputWidgets": {},
     "nuid": "9d865339-fb9e-4c9d-b5a1-f3b4c4f12285",
     "showTitle": false,
     "tableResultSettingsMap": {
      "0": {
       "dataGridStateBlob": null,
       "filterBlob": "{\"filterGroups\":[{\"enabled\":true,\"filterGroupId\":\"fg_d1481e09\",\"op\":\"OR\",\"filters\":[{\"filterId\":\"f_4a22d51d\",\"enabled\":true,\"columnId\":\"Start Date\",\"dataType\":\"string\",\"filterType\":\"oneof\"}],\"local\":false,\"updatedAt\":1744911744628}],\"syncTimestamp\":1744911744629}",
       "queryPlanFiltersBlob": null,
       "tableResultIndex": 0
      }
     },
     "title": ""
    }
   },
   "outputs": [
    {
     "data": {
      "text/html": [
       "<style scoped>\n",
       "  .table-result-container {\n",
       "    max-height: 300px;\n",
       "    overflow: auto;\n",
       "  }\n",
       "  table, th, td {\n",
       "    border: 1px solid black;\n",
       "    border-collapse: collapse;\n",
       "  }\n",
       "  th, td {\n",
       "    padding: 5px;\n",
       "  }\n",
       "  th {\n",
       "    text-align: left;\n",
       "  }\n",
       "</style><div class='table-result-container'><table class='table-result'><thead style='background-color: white'><tr><th>Facility Name</th><th>Facility ID</th><th>State</th><th>Period</th><th>Claim Type</th><th>Avg Spndg Per EP Hospital</th><th>Avg Spndg Per EP State</th><th>Avg Spndg Per EP National</th><th>Percent of Spndg Hospital</th><th>Percent of Spndg State</th><th>Percent of Spndg National</th><th>Start Date</th><th>End Date</th></tr></thead><tbody><tr><td>SOUTHEAST HEALTH MEDICAL CENTER</td><td>10001</td><td>AL</td><td>1 to 3 days Prior to Index Hospital Admission</td><td>Carrier</td><td>779.0</td><td>699.0</td><td>751.0</td><td>2.73%</td><td>2.73%</td><td>2.82%</td><td>01/01/2023</td><td>12/31/2023</td></tr><tr><td>SOUTHEAST HEALTH MEDICAL CENTER</td><td>10001</td><td>AL</td><td>1 to 3 days Prior to Index Hospital Admission</td><td>Hospice</td><td>1.0</td><td>2.0</td><td>1.0</td><td>0.00%</td><td>0.01%</td><td>0.00%</td><td>01/01/2023</td><td>12/31/2023</td></tr><tr><td>SOUTHEAST HEALTH MEDICAL CENTER</td><td>10001</td><td>AL</td><td>1 to 3 days Prior to Index Hospital Admission</td><td>Inpatient</td><td>37.0</td><td>39.0</td><td>45.0</td><td>0.13%</td><td>0.15%</td><td>0.17%</td><td>01/01/2023</td><td>12/31/2023</td></tr><tr><td>SOUTHEAST HEALTH MEDICAL CENTER</td><td>10001</td><td>AL</td><td>1 to 3 days Prior to Index Hospital Admission</td><td>Durable Medical Equipment</td><td>12.0</td><td>15.0</td><td>13.0</td><td>0.04%</td><td>0.06%</td><td>0.05%</td><td>01/01/2023</td><td>12/31/2023</td></tr><tr><td>SOUTHEAST HEALTH MEDICAL CENTER</td><td>10001</td><td>AL</td><td>1 to 3 days Prior to Index Hospital Admission</td><td>Skilled Nursing Facility</td><td>15.0</td><td>11.0</td><td>16.0</td><td>0.05%</td><td>0.04%</td><td>0.06%</td><td>01/01/2023</td><td>12/31/2023</td></tr><tr><td>SOUTHEAST HEALTH MEDICAL CENTER</td><td>10001</td><td>AL</td><td>1 to 3 days Prior to Index Hospital Admission</td><td>Outpatient</td><td>148.0</td><td>126.0</td><td>190.0</td><td>0.52%</td><td>0.49%</td><td>0.71%</td><td>01/01/2023</td><td>12/31/2023</td></tr><tr><td>SOUTHEAST HEALTH MEDICAL CENTER</td><td>10001</td><td>AL</td><td>During Index Hospital Admission</td><td>Home Health Agency</td><td>0.0</td><td>0.0</td><td>0.0</td><td>0.00%</td><td>0.00%</td><td>0.00%</td><td>01/01/2023</td><td>12/31/2023</td></tr><tr><td>SOUTHEAST HEALTH MEDICAL CENTER</td><td>10001</td><td>AL</td><td>During Index Hospital Admission</td><td>Hospice</td><td>0.0</td><td>0.0</td><td>0.0</td><td>0.00%</td><td>0.00%</td><td>0.00%</td><td>01/01/2023</td><td>12/31/2023</td></tr><tr><td>SOUTHEAST HEALTH MEDICAL CENTER</td><td>10001</td><td>AL</td><td>1 to 3 days Prior to Index Hospital Admission</td><td>Home Health Agency</td><td>28.0</td><td>23.0</td><td>19.0</td><td>0.10%</td><td>0.09%</td><td>0.07%</td><td>01/01/2023</td><td>12/31/2023</td></tr><tr><td>SOUTHEAST HEALTH MEDICAL CENTER</td><td>10001</td><td>AL</td><td>During Index Hospital Admission</td><td>Inpatient</td><td>12935.0</td><td>11810.0</td><td>12235.0</td><td>45.30%</td><td>46.21%</td><td>46.01%</td><td>01/01/2023</td><td>12/31/2023</td></tr></tbody></table></div>"
      ]
     },
     "metadata": {
      "application/vnd.databricks.v1+output": {
       "addedWidgets": {},
       "aggData": [],
       "aggError": "",
       "aggOverflow": false,
       "aggSchema": [],
       "aggSeriesLimitReached": false,
       "aggType": "",
       "arguments": {},
       "columnCustomDisplayInfos": {},
       "data": [
        [
         "SOUTHEAST HEALTH MEDICAL CENTER",
         10001,
         "AL",
         "1 to 3 days Prior to Index Hospital Admission",
         "Carrier",
         779,
         699,
         751,
         "2.73%",
         "2.73%",
         "2.82%",
         "01/01/2023",
         "12/31/2023"
        ],
        [
         "SOUTHEAST HEALTH MEDICAL CENTER",
         10001,
         "AL",
         "1 to 3 days Prior to Index Hospital Admission",
         "Hospice",
         1,
         2,
         1,
         "0.00%",
         "0.01%",
         "0.00%",
         "01/01/2023",
         "12/31/2023"
        ],
        [
         "SOUTHEAST HEALTH MEDICAL CENTER",
         10001,
         "AL",
         "1 to 3 days Prior to Index Hospital Admission",
         "Inpatient",
         37,
         39,
         45,
         "0.13%",
         "0.15%",
         "0.17%",
         "01/01/2023",
         "12/31/2023"
        ],
        [
         "SOUTHEAST HEALTH MEDICAL CENTER",
         10001,
         "AL",
         "1 to 3 days Prior to Index Hospital Admission",
         "Durable Medical Equipment",
         12,
         15,
         13,
         "0.04%",
         "0.06%",
         "0.05%",
         "01/01/2023",
         "12/31/2023"
        ],
        [
         "SOUTHEAST HEALTH MEDICAL CENTER",
         10001,
         "AL",
         "1 to 3 days Prior to Index Hospital Admission",
         "Skilled Nursing Facility",
         15,
         11,
         16,
         "0.05%",
         "0.04%",
         "0.06%",
         "01/01/2023",
         "12/31/2023"
        ],
        [
         "SOUTHEAST HEALTH MEDICAL CENTER",
         10001,
         "AL",
         "1 to 3 days Prior to Index Hospital Admission",
         "Outpatient",
         148,
         126,
         190,
         "0.52%",
         "0.49%",
         "0.71%",
         "01/01/2023",
         "12/31/2023"
        ],
        [
         "SOUTHEAST HEALTH MEDICAL CENTER",
         10001,
         "AL",
         "During Index Hospital Admission",
         "Home Health Agency",
         0,
         0,
         0,
         "0.00%",
         "0.00%",
         "0.00%",
         "01/01/2023",
         "12/31/2023"
        ],
        [
         "SOUTHEAST HEALTH MEDICAL CENTER",
         10001,
         "AL",
         "During Index Hospital Admission",
         "Hospice",
         0,
         0,
         0,
         "0.00%",
         "0.00%",
         "0.00%",
         "01/01/2023",
         "12/31/2023"
        ],
        [
         "SOUTHEAST HEALTH MEDICAL CENTER",
         10001,
         "AL",
         "1 to 3 days Prior to Index Hospital Admission",
         "Home Health Agency",
         28,
         23,
         19,
         "0.10%",
         "0.09%",
         "0.07%",
         "01/01/2023",
         "12/31/2023"
        ],
        [
         "SOUTHEAST HEALTH MEDICAL CENTER",
         10001,
         "AL",
         "During Index Hospital Admission",
         "Inpatient",
         12935,
         11810,
         12235,
         "45.30%",
         "46.21%",
         "46.01%",
         "01/01/2023",
         "12/31/2023"
        ]
       ],
       "datasetInfos": [],
       "dbfsResultPath": null,
       "isJsonSchema": true,
       "metadata": {},
       "overflow": false,
       "plotOptions": {
        "customPlotOptions": {},
        "displayType": "table",
        "pivotAggregation": null,
        "pivotColumns": null,
        "xColumns": null,
        "yColumns": null
       },
       "removedWidgets": [],
       "schema": [
        {
         "metadata": "{}",
         "name": "Facility Name",
         "type": "\"string\""
        },
        {
         "metadata": "{}",
         "name": "Facility ID",
         "type": "\"integer\""
        },
        {
         "metadata": "{}",
         "name": "State",
         "type": "\"string\""
        },
        {
         "metadata": "{}",
         "name": "Period",
         "type": "\"string\""
        },
        {
         "metadata": "{}",
         "name": "Claim Type",
         "type": "\"string\""
        },
        {
         "metadata": "{}",
         "name": "Avg Spndg Per EP Hospital",
         "type": "\"double\""
        },
        {
         "metadata": "{}",
         "name": "Avg Spndg Per EP State",
         "type": "\"double\""
        },
        {
         "metadata": "{}",
         "name": "Avg Spndg Per EP National",
         "type": "\"double\""
        },
        {
         "metadata": "{}",
         "name": "Percent of Spndg Hospital",
         "type": "\"string\""
        },
        {
         "metadata": "{}",
         "name": "Percent of Spndg State",
         "type": "\"string\""
        },
        {
         "metadata": "{}",
         "name": "Percent of Spndg National",
         "type": "\"string\""
        },
        {
         "metadata": "{}",
         "name": "Start Date",
         "type": "\"string\""
        },
        {
         "metadata": "{}",
         "name": "End Date",
         "type": "\"string\""
        }
       ],
       "type": "table"
      }
     },
     "output_type": "display_data"
    }
   ],
   "source": [
    "Claims_df = spark.read.format(\"csv\").option(\"header\", \"true\").schema(schema).load(\"/mnt/bronze/Claims\")\n",
    "\n",
    "# remove duplicates in Drugs_df\n",
    "Claims_df = Claims_df.dropDuplicates()\n",
    "\n",
    "# display(Claims_df.limit(10))"
   ]
  },
  {
   "cell_type": "code",
   "execution_count": 0,
   "metadata": {
    "application/vnd.databricks.v1+cell": {
     "cellMetadata": {
      "byteLimit": 2048000,
      "rowLimit": 10000
     },
     "inputWidgets": {},
     "nuid": "40d802df-b49b-48ce-bf82-7521cf206b33",
     "showTitle": false,
     "tableResultSettingsMap": {
      "0": {
       "dataGridStateBlob": null,
       "filterBlob": "{\"filterGroups\":[],\"syncTimestamp\":1744962961189}",
       "queryPlanFiltersBlob": null,
       "tableResultIndex": 0
      }
     },
     "title": ""
    }
   },
   "outputs": [
    {
     "data": {
      "text/html": [
       "<style scoped>\n",
       "  .table-result-container {\n",
       "    max-height: 300px;\n",
       "    overflow: auto;\n",
       "  }\n",
       "  table, th, td {\n",
       "    border: 1px solid black;\n",
       "    border-collapse: collapse;\n",
       "  }\n",
       "  th, td {\n",
       "    padding: 5px;\n",
       "  }\n",
       "  th {\n",
       "    text-align: left;\n",
       "  }\n",
       "</style><div class='table-result-container'><table class='table-result'><thead style='background-color: white'><tr><th>Facility Name</th><th>Facility ID</th><th>State</th><th>Period</th><th>Claim Type</th><th>Avg Spndg Per EP Hospital</th><th>Avg Spndg Per EP State</th><th>Avg Spndg Per EP National</th><th>Percent of Spndg Hospital</th><th>Percent of Spndg State</th><th>Percent of Spndg National</th><th>Start Date</th><th>End Date</th></tr></thead><tbody><tr><td>SOUTHEAST HEALTH MEDICAL CENTER</td><td>10001</td><td>AL</td><td>1 to 3 days Prior to Index Hospital Admission</td><td>Carrier</td><td>779.0</td><td>699.0</td><td>751.0</td><td>0.0273</td><td>0.0273</td><td>0.0282</td><td>2023-01-01</td><td>2023-12-31</td></tr><tr><td>SOUTHEAST HEALTH MEDICAL CENTER</td><td>10001</td><td>AL</td><td>1 to 3 days Prior to Index Hospital Admission</td><td>Hospice</td><td>1.0</td><td>2.0</td><td>1.0</td><td>0.0</td><td>1.0E-4</td><td>0.0</td><td>2023-01-01</td><td>2023-12-31</td></tr><tr><td>SOUTHEAST HEALTH MEDICAL CENTER</td><td>10001</td><td>AL</td><td>1 to 3 days Prior to Index Hospital Admission</td><td>Inpatient</td><td>37.0</td><td>39.0</td><td>45.0</td><td>0.0013</td><td>0.0015</td><td>0.0017</td><td>2023-01-01</td><td>2023-12-31</td></tr><tr><td>SOUTHEAST HEALTH MEDICAL CENTER</td><td>10001</td><td>AL</td><td>1 to 3 days Prior to Index Hospital Admission</td><td>Durable Medical Equipment</td><td>12.0</td><td>15.0</td><td>13.0</td><td>4.0E-4</td><td>6.0E-4</td><td>5.0E-4</td><td>2023-01-01</td><td>2023-12-31</td></tr><tr><td>SOUTHEAST HEALTH MEDICAL CENTER</td><td>10001</td><td>AL</td><td>1 to 3 days Prior to Index Hospital Admission</td><td>Skilled Nursing Facility</td><td>15.0</td><td>11.0</td><td>16.0</td><td>5.0E-4</td><td>4.0E-4</td><td>6.0E-4</td><td>2023-01-01</td><td>2023-12-31</td></tr><tr><td>SOUTHEAST HEALTH MEDICAL CENTER</td><td>10001</td><td>AL</td><td>1 to 3 days Prior to Index Hospital Admission</td><td>Outpatient</td><td>148.0</td><td>126.0</td><td>190.0</td><td>0.0052</td><td>0.0049</td><td>0.0071</td><td>2023-01-01</td><td>2023-12-31</td></tr><tr><td>SOUTHEAST HEALTH MEDICAL CENTER</td><td>10001</td><td>AL</td><td>During Index Hospital Admission</td><td>Home Health Agency</td><td>0.0</td><td>0.0</td><td>0.0</td><td>0.0</td><td>0.0</td><td>0.0</td><td>2023-01-01</td><td>2023-12-31</td></tr><tr><td>SOUTHEAST HEALTH MEDICAL CENTER</td><td>10001</td><td>AL</td><td>During Index Hospital Admission</td><td>Hospice</td><td>0.0</td><td>0.0</td><td>0.0</td><td>0.0</td><td>0.0</td><td>0.0</td><td>2023-01-01</td><td>2023-12-31</td></tr><tr><td>SOUTHEAST HEALTH MEDICAL CENTER</td><td>10001</td><td>AL</td><td>1 to 3 days Prior to Index Hospital Admission</td><td>Home Health Agency</td><td>28.0</td><td>23.0</td><td>19.0</td><td>0.001</td><td>9.0E-4</td><td>7.0E-4</td><td>2023-01-01</td><td>2023-12-31</td></tr><tr><td>SOUTHEAST HEALTH MEDICAL CENTER</td><td>10001</td><td>AL</td><td>During Index Hospital Admission</td><td>Inpatient</td><td>12935.0</td><td>11810.0</td><td>12235.0</td><td>0.453</td><td>0.4621</td><td>0.4601</td><td>2023-01-01</td><td>2023-12-31</td></tr></tbody></table></div>"
      ]
     },
     "metadata": {
      "application/vnd.databricks.v1+output": {
       "addedWidgets": {},
       "aggData": [],
       "aggError": "",
       "aggOverflow": false,
       "aggSchema": [],
       "aggSeriesLimitReached": false,
       "aggType": "",
       "arguments": {},
       "columnCustomDisplayInfos": {},
       "data": [
        [
         "SOUTHEAST HEALTH MEDICAL CENTER",
         10001,
         "AL",
         "1 to 3 days Prior to Index Hospital Admission",
         "Carrier",
         779,
         699,
         751,
         0.0273,
         0.0273,
         0.0282,
         "2023-01-01",
         "2023-12-31"
        ],
        [
         "SOUTHEAST HEALTH MEDICAL CENTER",
         10001,
         "AL",
         "1 to 3 days Prior to Index Hospital Admission",
         "Hospice",
         1,
         2,
         1,
         0,
         0.0001,
         0,
         "2023-01-01",
         "2023-12-31"
        ],
        [
         "SOUTHEAST HEALTH MEDICAL CENTER",
         10001,
         "AL",
         "1 to 3 days Prior to Index Hospital Admission",
         "Inpatient",
         37,
         39,
         45,
         0.0013,
         0.0015,
         0.0017,
         "2023-01-01",
         "2023-12-31"
        ],
        [
         "SOUTHEAST HEALTH MEDICAL CENTER",
         10001,
         "AL",
         "1 to 3 days Prior to Index Hospital Admission",
         "Durable Medical Equipment",
         12,
         15,
         13,
         0.0004,
         0.0006,
         0.0005,
         "2023-01-01",
         "2023-12-31"
        ],
        [
         "SOUTHEAST HEALTH MEDICAL CENTER",
         10001,
         "AL",
         "1 to 3 days Prior to Index Hospital Admission",
         "Skilled Nursing Facility",
         15,
         11,
         16,
         0.0005,
         0.0004,
         0.0006,
         "2023-01-01",
         "2023-12-31"
        ],
        [
         "SOUTHEAST HEALTH MEDICAL CENTER",
         10001,
         "AL",
         "1 to 3 days Prior to Index Hospital Admission",
         "Outpatient",
         148,
         126,
         190,
         0.0052,
         0.0049,
         0.0071,
         "2023-01-01",
         "2023-12-31"
        ],
        [
         "SOUTHEAST HEALTH MEDICAL CENTER",
         10001,
         "AL",
         "During Index Hospital Admission",
         "Home Health Agency",
         0,
         0,
         0,
         0,
         0,
         0,
         "2023-01-01",
         "2023-12-31"
        ],
        [
         "SOUTHEAST HEALTH MEDICAL CENTER",
         10001,
         "AL",
         "During Index Hospital Admission",
         "Hospice",
         0,
         0,
         0,
         0,
         0,
         0,
         "2023-01-01",
         "2023-12-31"
        ],
        [
         "SOUTHEAST HEALTH MEDICAL CENTER",
         10001,
         "AL",
         "1 to 3 days Prior to Index Hospital Admission",
         "Home Health Agency",
         28,
         23,
         19,
         0.001,
         0.0009,
         0.0007,
         "2023-01-01",
         "2023-12-31"
        ],
        [
         "SOUTHEAST HEALTH MEDICAL CENTER",
         10001,
         "AL",
         "During Index Hospital Admission",
         "Inpatient",
         12935,
         11810,
         12235,
         0.453,
         0.4621,
         0.4601,
         "2023-01-01",
         "2023-12-31"
        ]
       ],
       "datasetInfos": [],
       "dbfsResultPath": null,
       "isJsonSchema": true,
       "metadata": {},
       "overflow": false,
       "plotOptions": {
        "customPlotOptions": {},
        "displayType": "table",
        "pivotAggregation": null,
        "pivotColumns": null,
        "xColumns": null,
        "yColumns": null
       },
       "removedWidgets": [],
       "schema": [
        {
         "metadata": "{}",
         "name": "Facility Name",
         "type": "\"string\""
        },
        {
         "metadata": "{}",
         "name": "Facility ID",
         "type": "\"integer\""
        },
        {
         "metadata": "{}",
         "name": "State",
         "type": "\"string\""
        },
        {
         "metadata": "{}",
         "name": "Period",
         "type": "\"string\""
        },
        {
         "metadata": "{}",
         "name": "Claim Type",
         "type": "\"string\""
        },
        {
         "metadata": "{}",
         "name": "Avg Spndg Per EP Hospital",
         "type": "\"double\""
        },
        {
         "metadata": "{}",
         "name": "Avg Spndg Per EP State",
         "type": "\"double\""
        },
        {
         "metadata": "{}",
         "name": "Avg Spndg Per EP National",
         "type": "\"double\""
        },
        {
         "metadata": "{}",
         "name": "Percent of Spndg Hospital",
         "type": "\"double\""
        },
        {
         "metadata": "{}",
         "name": "Percent of Spndg State",
         "type": "\"double\""
        },
        {
         "metadata": "{}",
         "name": "Percent of Spndg National",
         "type": "\"double\""
        },
        {
         "metadata": "{}",
         "name": "Start Date",
         "type": "\"date\""
        },
        {
         "metadata": "{}",
         "name": "End Date",
         "type": "\"date\""
        }
       ],
       "type": "table"
      }
     },
     "output_type": "display_data"
    }
   ],
   "source": [
    "# Convert Strat Date and End Date into date type\n",
    "# Remove \"%\" and convert percent sign to double type\n",
    "from pyspark.sql.functions import to_date, regexp_replace, col, round\n",
    "\n",
    "Claims_df = Claims_df.withColumn(\"Start Date\", to_date(col(\"Start Date\"), \"MM/dd/yyyy\")) \\\n",
    "                     .withColumn(\"End Date\", to_date(col(\"End Date\"), \"MM/dd/yyyy\")) \\\n",
    "                     .withColumn(\n",
    "                         \"Percent of Spndg Hospital\", \n",
    "                         round(regexp_replace(col(\"Percent of Spndg Hospital\"), \"%\", \"\").cast(\"double\") / 100, 4)\n",
    "                     ).withColumn(\n",
    "                         \"Percent of Spndg State\", \n",
    "                         round(regexp_replace(col(\"Percent of Spndg State\"), \"%\", \"\").cast(\"double\") / 100, 4)\n",
    "                     ).withColumn(\n",
    "                         \"Percent of Spndg National\", \n",
    "                         round(regexp_replace(col(\"Percent of Spndg National\"), \"%\", \"\").cast(\"double\") / 100, 4)\n",
    "                     )\n",
    "\n",
    "# display(Claims_df.limit(10))\n"
   ]
  },
  {
   "cell_type": "code",
   "execution_count": 0,
   "metadata": {
    "application/vnd.databricks.v1+cell": {
     "cellMetadata": {
      "byteLimit": 2048000,
      "rowLimit": 10000
     },
     "inputWidgets": {},
     "nuid": "8573c62c-0104-4451-a9e5-7313309e544a",
     "showTitle": false,
     "tableResultSettingsMap": {},
     "title": ""
    }
   },
   "outputs": [
    {
     "data": {
      "text/html": [
       "<style scoped>\n",
       "  .table-result-container {\n",
       "    max-height: 300px;\n",
       "    overflow: auto;\n",
       "  }\n",
       "  table, th, td {\n",
       "    border: 1px solid black;\n",
       "    border-collapse: collapse;\n",
       "  }\n",
       "  th, td {\n",
       "    padding: 5px;\n",
       "  }\n",
       "  th {\n",
       "    text-align: left;\n",
       "  }\n",
       "</style><div class='table-result-container'><table class='table-result'><thead style='background-color: white'><tr><th>Facility Name</th><th>Facility ID</th><th>State</th><th>Period</th><th>Claim Type</th><th>Avg Spndg Per EP Hospital</th><th>Avg Spndg Per EP State</th><th>Avg Spndg Per EP National</th><th>Percent of Spndg Hospital</th><th>Percent of Spndg State</th><th>Percent of Spndg National</th><th>Start Date</th><th>End Date</th><th>Year</th></tr></thead><tbody><tr><td>JACKSON HOSPITAL & CLINIC INC</td><td>10024</td><td>AL</td><td>1 to 3 days Prior to Index Hospital Admission</td><td>Carrier</td><td>682.0</td><td>699.0</td><td>751.0</td><td>0.0258</td><td>0.0273</td><td>0.0282</td><td>2023-01-01</td><td>2023-12-31</td><td>2023</td></tr><tr><td>GADSDEN REGIONAL MEDICAL CENTER</td><td>10040</td><td>AL</td><td>1 through 30 days After Discharge from Index Hospital Admission</td><td>Inpatient</td><td>6147.0</td><td>4513.0</td><td>4100.0</td><td>0.2387</td><td>0.1766</td><td>0.1542</td><td>2023-01-01</td><td>2023-12-31</td><td>2023</td></tr><tr><td>ATHENS LIMESTONE HOSPITAL</td><td>10079</td><td>AL</td><td>1 through 30 days After Discharge from Index Hospital Admission</td><td>Inpatient</td><td>3315.0</td><td>4513.0</td><td>4100.0</td><td>0.1345</td><td>0.1766</td><td>0.1542</td><td>2023-01-01</td><td>2023-12-31</td><td>2023</td></tr><tr><td>ATHENS LIMESTONE HOSPITAL</td><td>10079</td><td>AL</td><td>1 through 30 days After Discharge from Index Hospital Admission</td><td>Skilled Nursing Facility</td><td>5987.0</td><td>3030.0</td><td>3944.0</td><td>0.243</td><td>0.1186</td><td>0.1483</td><td>2023-01-01</td><td>2023-12-31</td><td>2023</td></tr><tr><td>NORTHWEST MEDICAL CENTER</td><td>10086</td><td>AL</td><td>During Index Hospital Admission</td><td>Skilled Nursing Facility</td><td>0.0</td><td>0.0</td><td>0.0</td><td>0.0</td><td>0.0</td><td>0.0</td><td>2023-01-01</td><td>2023-12-31</td><td>2023</td></tr></tbody></table></div>"
      ]
     },
     "metadata": {
      "application/vnd.databricks.v1+output": {
       "addedWidgets": {},
       "aggData": [],
       "aggError": "",
       "aggOverflow": false,
       "aggSchema": [],
       "aggSeriesLimitReached": false,
       "aggType": "",
       "arguments": {},
       "columnCustomDisplayInfos": {},
       "data": [
        [
         "JACKSON HOSPITAL & CLINIC INC",
         10024,
         "AL",
         "1 to 3 days Prior to Index Hospital Admission",
         "Carrier",
         682,
         699,
         751,
         0.0258,
         0.0273,
         0.0282,
         "2023-01-01",
         "2023-12-31",
         2023
        ],
        [
         "GADSDEN REGIONAL MEDICAL CENTER",
         10040,
         "AL",
         "1 through 30 days After Discharge from Index Hospital Admission",
         "Inpatient",
         6147,
         4513,
         4100,
         0.2387,
         0.1766,
         0.1542,
         "2023-01-01",
         "2023-12-31",
         2023
        ],
        [
         "ATHENS LIMESTONE HOSPITAL",
         10079,
         "AL",
         "1 through 30 days After Discharge from Index Hospital Admission",
         "Inpatient",
         3315,
         4513,
         4100,
         0.1345,
         0.1766,
         0.1542,
         "2023-01-01",
         "2023-12-31",
         2023
        ],
        [
         "ATHENS LIMESTONE HOSPITAL",
         10079,
         "AL",
         "1 through 30 days After Discharge from Index Hospital Admission",
         "Skilled Nursing Facility",
         5987,
         3030,
         3944,
         0.243,
         0.1186,
         0.1483,
         "2023-01-01",
         "2023-12-31",
         2023
        ],
        [
         "NORTHWEST MEDICAL CENTER",
         10086,
         "AL",
         "During Index Hospital Admission",
         "Skilled Nursing Facility",
         0,
         0,
         0,
         0,
         0,
         0,
         "2023-01-01",
         "2023-12-31",
         2023
        ]
       ],
       "datasetInfos": [],
       "dbfsResultPath": null,
       "isJsonSchema": true,
       "metadata": {},
       "overflow": false,
       "plotOptions": {
        "customPlotOptions": {},
        "displayType": "table",
        "pivotAggregation": null,
        "pivotColumns": null,
        "xColumns": null,
        "yColumns": null
       },
       "removedWidgets": [],
       "schema": [
        {
         "metadata": "{}",
         "name": "Facility Name",
         "type": "\"string\""
        },
        {
         "metadata": "{}",
         "name": "Facility ID",
         "type": "\"integer\""
        },
        {
         "metadata": "{}",
         "name": "State",
         "type": "\"string\""
        },
        {
         "metadata": "{}",
         "name": "Period",
         "type": "\"string\""
        },
        {
         "metadata": "{}",
         "name": "Claim Type",
         "type": "\"string\""
        },
        {
         "metadata": "{}",
         "name": "Avg Spndg Per EP Hospital",
         "type": "\"double\""
        },
        {
         "metadata": "{}",
         "name": "Avg Spndg Per EP State",
         "type": "\"double\""
        },
        {
         "metadata": "{}",
         "name": "Avg Spndg Per EP National",
         "type": "\"double\""
        },
        {
         "metadata": "{}",
         "name": "Percent of Spndg Hospital",
         "type": "\"double\""
        },
        {
         "metadata": "{}",
         "name": "Percent of Spndg State",
         "type": "\"double\""
        },
        {
         "metadata": "{}",
         "name": "Percent of Spndg National",
         "type": "\"double\""
        },
        {
         "metadata": "{}",
         "name": "Start Date",
         "type": "\"date\""
        },
        {
         "metadata": "{}",
         "name": "End Date",
         "type": "\"date\""
        },
        {
         "metadata": "{}",
         "name": "Year",
         "type": "\"integer\""
        }
       ],
       "type": "table"
      }
     },
     "output_type": "display_data"
    }
   ],
   "source": [
    "# Extract onlythe Year of the Start Date and make column as Year\n",
    "from pyspark.sql.functions import year\n",
    "\n",
    "Claims_df = Claims_df.withColumn(\"Year\", year(col(\"Start Date\")))\n",
    "\n",
    "# display(Claims_df.limit(5))"
   ]
  },
  {
   "cell_type": "code",
   "execution_count": 0,
   "metadata": {
    "application/vnd.databricks.v1+cell": {
     "cellMetadata": {
      "byteLimit": 2048000,
      "rowLimit": 10000
     },
     "inputWidgets": {},
     "nuid": "a53acdd3-38fb-4c4c-865d-1eae9c5614d5",
     "showTitle": false,
     "tableResultSettingsMap": {},
     "title": ""
    }
   },
   "outputs": [
    {
     "data": {
      "text/html": [
       "<style scoped>\n",
       "  .table-result-container {\n",
       "    max-height: 300px;\n",
       "    overflow: auto;\n",
       "  }\n",
       "  table, th, td {\n",
       "    border: 1px solid black;\n",
       "    border-collapse: collapse;\n",
       "  }\n",
       "  th, td {\n",
       "    padding: 5px;\n",
       "  }\n",
       "  th {\n",
       "    text-align: left;\n",
       "  }\n",
       "</style><div class='table-result-container'><table class='table-result'><thead style='background-color: white'><tr><th>Facility Name</th><th>Facility ID</th><th>State</th><th>Period</th><th>Claim Type</th><th>Avg Spndg Per EP Hospital</th><th>Avg Spndg Per EP State</th><th>Avg Spndg Per EP National</th><th>Percent of Spndg Hospital</th><th>Percent of Spndg State</th><th>Percent of Spndg National</th><th>Start Date</th><th>End Date</th><th>Year</th><th>High Spndg Hospital</th><th>High Spndg State</th><th>High Spndg National</th></tr></thead><tbody><tr><td>JACKSON HOSPITAL & CLINIC INC</td><td>10024</td><td>AL</td><td>1 to 3 days Prior to Index Hospital Admission</td><td>Carrier</td><td>682.0</td><td>699.0</td><td>751.0</td><td>0.0258</td><td>0.0273</td><td>0.0282</td><td>2023-01-01</td><td>2023-12-31</td><td>2023</td><td>0</td><td>0</td><td>0</td></tr><tr><td>GADSDEN REGIONAL MEDICAL CENTER</td><td>10040</td><td>AL</td><td>1 through 30 days After Discharge from Index Hospital Admission</td><td>Inpatient</td><td>6147.0</td><td>4513.0</td><td>4100.0</td><td>0.2387</td><td>0.1766</td><td>0.1542</td><td>2023-01-01</td><td>2023-12-31</td><td>2023</td><td>0</td><td>0</td><td>0</td></tr><tr><td>ATHENS LIMESTONE HOSPITAL</td><td>10079</td><td>AL</td><td>1 through 30 days After Discharge from Index Hospital Admission</td><td>Inpatient</td><td>3315.0</td><td>4513.0</td><td>4100.0</td><td>0.1345</td><td>0.1766</td><td>0.1542</td><td>2023-01-01</td><td>2023-12-31</td><td>2023</td><td>0</td><td>0</td><td>0</td></tr><tr><td>ATHENS LIMESTONE HOSPITAL</td><td>10079</td><td>AL</td><td>1 through 30 days After Discharge from Index Hospital Admission</td><td>Skilled Nursing Facility</td><td>5987.0</td><td>3030.0</td><td>3944.0</td><td>0.243</td><td>0.1186</td><td>0.1483</td><td>2023-01-01</td><td>2023-12-31</td><td>2023</td><td>0</td><td>0</td><td>0</td></tr><tr><td>NORTHWEST MEDICAL CENTER</td><td>10086</td><td>AL</td><td>During Index Hospital Admission</td><td>Skilled Nursing Facility</td><td>0.0</td><td>0.0</td><td>0.0</td><td>0.0</td><td>0.0</td><td>0.0</td><td>2023-01-01</td><td>2023-12-31</td><td>2023</td><td>0</td><td>0</td><td>0</td></tr></tbody></table></div>"
      ]
     },
     "metadata": {
      "application/vnd.databricks.v1+output": {
       "addedWidgets": {},
       "aggData": [],
       "aggError": "",
       "aggOverflow": false,
       "aggSchema": [],
       "aggSeriesLimitReached": false,
       "aggType": "",
       "arguments": {},
       "columnCustomDisplayInfos": {},
       "data": [
        [
         "JACKSON HOSPITAL & CLINIC INC",
         10024,
         "AL",
         "1 to 3 days Prior to Index Hospital Admission",
         "Carrier",
         682,
         699,
         751,
         0.0258,
         0.0273,
         0.0282,
         "2023-01-01",
         "2023-12-31",
         2023,
         0,
         0,
         0
        ],
        [
         "GADSDEN REGIONAL MEDICAL CENTER",
         10040,
         "AL",
         "1 through 30 days After Discharge from Index Hospital Admission",
         "Inpatient",
         6147,
         4513,
         4100,
         0.2387,
         0.1766,
         0.1542,
         "2023-01-01",
         "2023-12-31",
         2023,
         0,
         0,
         0
        ],
        [
         "ATHENS LIMESTONE HOSPITAL",
         10079,
         "AL",
         "1 through 30 days After Discharge from Index Hospital Admission",
         "Inpatient",
         3315,
         4513,
         4100,
         0.1345,
         0.1766,
         0.1542,
         "2023-01-01",
         "2023-12-31",
         2023,
         0,
         0,
         0
        ],
        [
         "ATHENS LIMESTONE HOSPITAL",
         10079,
         "AL",
         "1 through 30 days After Discharge from Index Hospital Admission",
         "Skilled Nursing Facility",
         5987,
         3030,
         3944,
         0.243,
         0.1186,
         0.1483,
         "2023-01-01",
         "2023-12-31",
         2023,
         0,
         0,
         0
        ],
        [
         "NORTHWEST MEDICAL CENTER",
         10086,
         "AL",
         "During Index Hospital Admission",
         "Skilled Nursing Facility",
         0,
         0,
         0,
         0,
         0,
         0,
         "2023-01-01",
         "2023-12-31",
         2023,
         0,
         0,
         0
        ]
       ],
       "datasetInfos": [],
       "dbfsResultPath": null,
       "isJsonSchema": true,
       "metadata": {},
       "overflow": false,
       "plotOptions": {
        "customPlotOptions": {},
        "displayType": "table",
        "pivotAggregation": null,
        "pivotColumns": null,
        "xColumns": null,
        "yColumns": null
       },
       "removedWidgets": [],
       "schema": [
        {
         "metadata": "{}",
         "name": "Facility Name",
         "type": "\"string\""
        },
        {
         "metadata": "{}",
         "name": "Facility ID",
         "type": "\"integer\""
        },
        {
         "metadata": "{}",
         "name": "State",
         "type": "\"string\""
        },
        {
         "metadata": "{}",
         "name": "Period",
         "type": "\"string\""
        },
        {
         "metadata": "{}",
         "name": "Claim Type",
         "type": "\"string\""
        },
        {
         "metadata": "{}",
         "name": "Avg Spndg Per EP Hospital",
         "type": "\"double\""
        },
        {
         "metadata": "{}",
         "name": "Avg Spndg Per EP State",
         "type": "\"double\""
        },
        {
         "metadata": "{}",
         "name": "Avg Spndg Per EP National",
         "type": "\"double\""
        },
        {
         "metadata": "{}",
         "name": "Percent of Spndg Hospital",
         "type": "\"double\""
        },
        {
         "metadata": "{}",
         "name": "Percent of Spndg State",
         "type": "\"double\""
        },
        {
         "metadata": "{}",
         "name": "Percent of Spndg National",
         "type": "\"double\""
        },
        {
         "metadata": "{}",
         "name": "Start Date",
         "type": "\"date\""
        },
        {
         "metadata": "{}",
         "name": "End Date",
         "type": "\"date\""
        },
        {
         "metadata": "{}",
         "name": "Year",
         "type": "\"integer\""
        },
        {
         "metadata": "{}",
         "name": "High Spndg Hospital",
         "type": "\"integer\""
        },
        {
         "metadata": "{}",
         "name": "High Spndg State",
         "type": "\"integer\""
        },
        {
         "metadata": "{}",
         "name": "High Spndg National",
         "type": "\"integer\""
        }
       ],
       "type": "table"
      }
     },
     "output_type": "display_data"
    }
   ],
   "source": [
    "# Create binary features for high spending percentages\n",
    "Claims_df = Claims_df.withColumn(\"High Spndg Hospital\", (col(\"Percent of Spndg Hospital\") > 0.5).cast(\"int\")) \\\n",
    "                     .withColumn(\"High Spndg State\", (col(\"Percent of Spndg State\") > 0.5).cast(\"int\")) \\\n",
    "                     .withColumn(\"High Spndg National\", (col(\"Percent of Spndg National\") > 0.5).cast(\"int\"))\n",
    "\n",
    "# display(Claims_df.limit(5))"
   ]
  },
  {
   "cell_type": "code",
   "execution_count": 0,
   "metadata": {
    "application/vnd.databricks.v1+cell": {
     "cellMetadata": {
      "byteLimit": 2048000,
      "rowLimit": 10000
     },
     "inputWidgets": {},
     "nuid": "2cfbca32-a2bf-42aa-820e-d7bec3fc5974",
     "showTitle": false,
     "tableResultSettingsMap": {},
     "title": ""
    }
   },
   "outputs": [],
   "source": [
    "# from pyspark.sql.functions import col\n",
    "# filtered_df = Claims_df.filter(col(\"Percent of Spndg Hospital\") > 0.5)\n",
    "# display(filtered_df)"
   ]
  },
  {
   "cell_type": "code",
   "execution_count": 0,
   "metadata": {
    "application/vnd.databricks.v1+cell": {
     "cellMetadata": {
      "byteLimit": 2048000,
      "rowLimit": 10000
     },
     "inputWidgets": {},
     "nuid": "20a4b7f2-8a80-4c48-b862-ec7bb078ddd3",
     "showTitle": false,
     "tableResultSettingsMap": {},
     "title": ""
    }
   },
   "outputs": [],
   "source": [
    "# unique_states = Claims_df.select(\"State\").distinct()\n",
    "# display(unique_states)"
   ]
  },
  {
   "cell_type": "code",
   "execution_count": 0,
   "metadata": {
    "application/vnd.databricks.v1+cell": {
     "cellMetadata": {
      "byteLimit": 2048000,
      "rowLimit": 10000
     },
     "inputWidgets": {},
     "nuid": "15f25fa2-4037-475e-9955-22bd54b90053",
     "showTitle": false,
     "tableResultSettingsMap": {},
     "title": ""
    }
   },
   "outputs": [
    {
     "data": {
      "text/plain": [
       "64658"
      ]
     },
     "execution_count": 32,
     "metadata": {},
     "output_type": "execute_result"
    }
   ],
   "source": [
    "# Claims_df.count()"
   ]
  },
  {
   "cell_type": "code",
   "execution_count": 0,
   "metadata": {
    "application/vnd.databricks.v1+cell": {
     "cellMetadata": {
      "byteLimit": 2048000,
      "rowLimit": 10000
     },
     "inputWidgets": {},
     "nuid": "551f2945-4de4-4d19-bc23-257a78d95378",
     "showTitle": false,
     "tableResultSettingsMap": {},
     "title": ""
    }
   },
   "outputs": [
    {
     "data": {
      "text/html": [
       "<style scoped>\n",
       "  .table-result-container {\n",
       "    max-height: 300px;\n",
       "    overflow: auto;\n",
       "  }\n",
       "  table, th, td {\n",
       "    border: 1px solid black;\n",
       "    border-collapse: collapse;\n",
       "  }\n",
       "  th, td {\n",
       "    padding: 5px;\n",
       "  }\n",
       "  th {\n",
       "    text-align: left;\n",
       "  }\n",
       "</style><div class='table-result-container'><table class='table-result'><thead style='background-color: white'><tr><th>Facility Name</th><th>Facility ID</th><th>State</th><th>Period</th><th>Claim Type</th><th>Avg Spndg Per EP Hospital</th><th>Avg Spndg Per EP State</th><th>Avg Spndg Per EP National</th><th>Percent of Spndg Hospital</th><th>Percent of Spndg State</th><th>Percent of Spndg National</th><th>Start Date</th><th>End Date</th><th>Year</th><th>High Spndg Hospital</th><th>High Spndg State</th><th>High Spndg National</th></tr></thead><tbody><tr><td>0</td><td>0</td><td>0</td><td>0</td><td>0</td><td>0</td><td>0</td><td>0</td><td>0</td><td>0</td><td>0</td><td>0</td><td>0</td><td>0</td><td>0</td><td>0</td><td>0</td></tr></tbody></table></div>"
      ]
     },
     "metadata": {
      "application/vnd.databricks.v1+output": {
       "addedWidgets": {},
       "aggData": [],
       "aggError": "",
       "aggOverflow": false,
       "aggSchema": [],
       "aggSeriesLimitReached": false,
       "aggType": "",
       "arguments": {},
       "columnCustomDisplayInfos": {},
       "data": [
        [
         0,
         0,
         0,
         0,
         0,
         0,
         0,
         0,
         0,
         0,
         0,
         0,
         0,
         0,
         0,
         0,
         0
        ]
       ],
       "datasetInfos": [],
       "dbfsResultPath": null,
       "isJsonSchema": true,
       "metadata": {},
       "overflow": false,
       "plotOptions": {
        "customPlotOptions": {},
        "displayType": "table",
        "pivotAggregation": null,
        "pivotColumns": null,
        "xColumns": null,
        "yColumns": null
       },
       "removedWidgets": [],
       "schema": [
        {
         "metadata": "{}",
         "name": "Facility Name",
         "type": "\"long\""
        },
        {
         "metadata": "{}",
         "name": "Facility ID",
         "type": "\"long\""
        },
        {
         "metadata": "{}",
         "name": "State",
         "type": "\"long\""
        },
        {
         "metadata": "{}",
         "name": "Period",
         "type": "\"long\""
        },
        {
         "metadata": "{}",
         "name": "Claim Type",
         "type": "\"long\""
        },
        {
         "metadata": "{}",
         "name": "Avg Spndg Per EP Hospital",
         "type": "\"long\""
        },
        {
         "metadata": "{}",
         "name": "Avg Spndg Per EP State",
         "type": "\"long\""
        },
        {
         "metadata": "{}",
         "name": "Avg Spndg Per EP National",
         "type": "\"long\""
        },
        {
         "metadata": "{}",
         "name": "Percent of Spndg Hospital",
         "type": "\"long\""
        },
        {
         "metadata": "{}",
         "name": "Percent of Spndg State",
         "type": "\"long\""
        },
        {
         "metadata": "{}",
         "name": "Percent of Spndg National",
         "type": "\"long\""
        },
        {
         "metadata": "{}",
         "name": "Start Date",
         "type": "\"long\""
        },
        {
         "metadata": "{}",
         "name": "End Date",
         "type": "\"long\""
        },
        {
         "metadata": "{}",
         "name": "Year",
         "type": "\"long\""
        },
        {
         "metadata": "{}",
         "name": "High Spndg Hospital",
         "type": "\"long\""
        },
        {
         "metadata": "{}",
         "name": "High Spndg State",
         "type": "\"long\""
        },
        {
         "metadata": "{}",
         "name": "High Spndg National",
         "type": "\"long\""
        }
       ],
       "type": "table"
      }
     },
     "output_type": "display_data"
    }
   ],
   "source": [
    "# from pyspark.sql.functions import col, sum\n",
    "\n",
    "# # Check for null values in each column\n",
    "# null_counts = Claims_df.select([sum(col(c).isNull().cast(\"int\")).alias(c) for c in Claims_df.columns])\n",
    "\n",
    "# display(null_counts)"
   ]
  },
  {
   "cell_type": "markdown",
   "metadata": {
    "application/vnd.databricks.v1+cell": {
     "cellMetadata": {
      "byteLimit": 2048000,
      "rowLimit": 10000
     },
     "inputWidgets": {},
     "nuid": "050bffc7-c613-456e-b8fc-f0d4d65a12d8",
     "showTitle": false,
     "tableResultSettingsMap": {},
     "title": ""
    }
   },
   "source": [
    "### 2) Drugs Dataset"
   ]
  },
  {
   "cell_type": "code",
   "execution_count": 0,
   "metadata": {
    "application/vnd.databricks.v1+cell": {
     "cellMetadata": {
      "byteLimit": 2048000,
      "rowLimit": 10000
     },
     "inputWidgets": {},
     "nuid": "da7537bb-0e84-4f5e-b5c3-4c9bb5dd838a",
     "showTitle": false,
     "tableResultSettingsMap": {},
     "title": ""
    }
   },
   "outputs": [],
   "source": [
    "drugs_schema = StructType([\n",
    "    StructField(\"Brnd_Name\", StringType(), True),\n",
    "    StructField(\"Gnrc_Name\", StringType(), True),\n",
    "    StructField(\"Tot_Mftr\", IntegerType(), True),\n",
    "    StructField(\"Mftr_Name\", StringType(), True),\n",
    "    StructField(\"Tot_Spndng_2018\", DoubleType(), True),\n",
    "    StructField(\"Tot_Dsg_Unts_2018\", DoubleType(), True),\n",
    "    StructField(\"Tot_Clms_2018\", DoubleType(), True),\n",
    "    StructField(\"Avg_Spnd_Per_Dsg_Unt_Wghtd_2018\", DoubleType(), True),\n",
    "    StructField(\"Avg_Spnd_Per_Clm_2018\", DoubleType(), True),\n",
    "    StructField(\"Outlier_Flag_2018\", StringType(), True),\n",
    "    StructField(\"Tot_Spndng_2019\", DoubleType(), True),\n",
    "    StructField(\"Tot_Dsg_Unts_2019\", DoubleType(), True),\n",
    "    StructField(\"Tot_Clms_2019\", DoubleType(), True),\n",
    "    StructField(\"Avg_Spnd_Per_Dsg_Unt_Wghtd_2019\", DoubleType(), True),\n",
    "    StructField(\"Avg_Spnd_Per_Clm_2019\", DoubleType(), True),\n",
    "    StructField(\"Outlier_Flag_2019\", StringType(), True),\n",
    "    StructField(\"Tot_Spndng_2020\", DoubleType(), True),\n",
    "    StructField(\"Tot_Dsg_Unts_2020\", DoubleType(), True),\n",
    "    StructField(\"Tot_Clms_2020\", DoubleType(), True),\n",
    "    StructField(\"Avg_Spnd_Per_Dsg_Unt_Wghtd_2020\", DoubleType(), True),\n",
    "    StructField(\"Avg_Spnd_Per_Clm_2020\", DoubleType(), True),\n",
    "    StructField(\"Outlier_Flag_2020\", StringType(), True),\n",
    "    StructField(\"Tot_Spndng_2021\", DoubleType(), True),\n",
    "    StructField(\"Tot_Dsg_Unts_2021\", DoubleType(), True),\n",
    "    StructField(\"Tot_Clms_2021\", DoubleType(), True),\n",
    "    StructField(\"Avg_Spnd_Per_Dsg_Unt_Wghtd_2021\", DoubleType(), True),\n",
    "    StructField(\"Avg_Spnd_Per_Clm_2021\", DoubleType(), True),\n",
    "    StructField(\"Outlier_Flag_2021\", StringType(), True),\n",
    "    StructField(\"Tot_Spndng_2022\", DoubleType(), True),\n",
    "    StructField(\"Tot_Dsg_Unts_2022\", DoubleType(), True),\n",
    "    StructField(\"Tot_Clms_2022\", DoubleType(), True),\n",
    "    StructField(\"Avg_Spnd_Per_Dsg_Unt_Wghtd_2022\", DoubleType(), True),\n",
    "    StructField(\"Avg_Spnd_Per_Clm_2022\", DoubleType(), True),\n",
    "    StructField(\"Outlier_Flag_2022\", StringType(), True),\n",
    "    StructField(\"Chg_Avg_Spnd_Per_Dsg_Unt_21_22\", DoubleType(), True),\n",
    "    StructField(\"CAGR_Avg_Spnd_Per_Dsg_Unt_18_22\", DoubleType(), True)\n",
    "])"
   ]
  },
  {
   "cell_type": "code",
   "execution_count": 0,
   "metadata": {
    "application/vnd.databricks.v1+cell": {
     "cellMetadata": {
      "byteLimit": 2048000,
      "rowLimit": 10000
     },
     "inputWidgets": {},
     "nuid": "2166e105-cec9-45be-8bfd-9b1d58d92b8b",
     "showTitle": false,
     "tableResultSettingsMap": {},
     "title": ""
    }
   },
   "outputs": [],
   "source": [
    "Drugs_df = spark.read.format(\"csv\").option(\"header\", \"true\").schema(drugs_schema).load(\"/mnt/bronze/Drugs\")\n",
    "\n",
    "# remove duplicates in Drugs_df\n",
    "Drugs_df = Drugs_df.dropDuplicates()\n",
    "\n",
    "# display(Drugs_df.limit(10))"
   ]
  },
  {
   "cell_type": "markdown",
   "metadata": {
    "application/vnd.databricks.v1+cell": {
     "cellMetadata": {
      "byteLimit": 2048000,
      "rowLimit": 10000
     },
     "inputWidgets": {},
     "nuid": "ee73a07a-23db-4933-8714-c0459c1a470b",
     "showTitle": false,
     "tableResultSettingsMap": {},
     "title": ""
    }
   },
   "source": [
    "Rename the columns"
   ]
  },
  {
   "cell_type": "code",
   "execution_count": 0,
   "metadata": {
    "application/vnd.databricks.v1+cell": {
     "cellMetadata": {
      "byteLimit": 2048000,
      "rowLimit": 10000
     },
     "inputWidgets": {},
     "nuid": "32a54117-47fe-4fd4-a3a1-9ad09ee2e2e8",
     "showTitle": false,
     "tableResultSettingsMap": {},
     "title": ""
    }
   },
   "outputs": [],
   "source": [
    "column_rename_map_Drugs = {\n",
    "    \"Brnd_Name\": \"Brand_Name\",\n",
    "    \"Gnrc_Name\": \"Generic_Name\",\n",
    "    \"Tot_Mftr\": \"Number_of_Manufacturers\",\n",
    "    \"Mftr_Name\": \"Manufacturer\",\n",
    "    \"Tot_Spndng_2018\": \"2018_Total_Spending\",\n",
    "    \"Tot_Dsg_Unts_2018\": \"2018_Total_Dosage_Units\",\n",
    "    \"Tot_Clms_2018\": \"2018_Total_Claims\",\n",
    "    \"Avg_Spnd_Per_Dsg_Unt_Wghtd_2018\": \"2018_Average_Total_Spending_Per_Dosage_Unit_(Weighted)\",\n",
    "    \"Avg_Spnd_Per_Clm_2018\": \"2018_Average_Total_Spending_Per_Claim\",\n",
    "    \"Outlier_Flag_2018\": \"2018_Outlier_Flag\",\n",
    "    \"Tot_Spndng_2019\": \"2019_Total_Spending\",\n",
    "    \"Tot_Dsg_Unts_2019\": \"2019_Total_Dosage_Units\",\n",
    "    \"Tot_Clms_2019\": \"2019_Total_Claims\",\n",
    "    \"Avg_Spnd_Per_Dsg_Unt_Wghtd_2019\": \"2019_Average_Total_Spending_Per_Dosage_Unit_(Weighted)\",\n",
    "    \"Avg_Spnd_Per_Clm_2019\": \"2019_Average_Total_Spending_Per_Claim\",\n",
    "    \"Outlier_Flag_2019\": \"2019_Outlier_Flag\",\n",
    "    \"Tot_Spndng_2020\": \"2020_Total_Spending\",\n",
    "    \"Tot_Dsg_Unts_2020\": \"2020_Total_Dosage_Units\",\n",
    "    \"Tot_Clms_2020\": \"2020_Total_Claims\",\n",
    "    \"Avg_Spnd_Per_Dsg_Unt_Wghtd_2020\": \"2020_Average_Total_Spending_Per_Dosage_Unit_(Weighted)\",\n",
    "    \"Avg_Spnd_Per_Clm_2020\": \"2020_Average_Total_Spending_Per_Claim\",\n",
    "    \"Outlier_Flag_2020\": \"2020_Outlier_Flag\",\n",
    "    \"Tot_Spndng_2021\": \"2021_Total_Spending\",\n",
    "    \"Tot_Dsg_Unts_2021\": \"2021_Total_Dosage_Units\",\n",
    "    \"Tot_Clms_2021\": \"2021_Total_Claims\",\n",
    "    \"Avg_Spnd_Per_Dsg_Unt_Wghtd_2021\": \"2021_Average_Total_Spending_Per_Dosage_Unit_(Weighted)\",\n",
    "    \"Avg_Spnd_Per_Clm_2021\": \"2021_Average_Total_Spending_Per_Claim\",\n",
    "    \"Outlier_Flag_2021\": \"2021_Outlier_Flag\",\n",
    "    \"Tot_Spndng_2022\": \"2022_Total_Spending\",\n",
    "    \"Tot_Dsg_Unts_2022\": \"2022_Total_Dosage_Units\",\n",
    "    \"Tot_Clms_2022\": \"2022_Total_Claims\",\n",
    "    \"Avg_Spnd_Per_Dsg_Unt_Wghtd_2022\": \"2022_Average_Total_Spending_Per_Dosage_Unit_(Weighted)\",\n",
    "    \"Avg_Spnd_Per_Clm_2022\": \"2022_Average_Total_Spending_Per_Claim\",\n",
    "    \"Outlier_Flag_2022\": \"2022_Outlier_Flag\",\n",
    "    \"Chg_Avg_Spnd_Per_Dsg_Unt_21_22\": \"Change_in_Average_Total_Spending_Per_Dosage_Unit_(2021-2022)\",\n",
    "    \"CAGR_Avg_Spnd_Per_Dsg_Unt_18_22\": \"Annual_Growth_Rate_in_Average_Total_Spending_Per_Dosage_Unit_(2018-2022)\"\n",
    "}\n",
    "\n",
    "# Rename the columns using the mapping\n",
    "for old_col, new_col in column_rename_map_Drugs.items():\n",
    "    if old_col in Drugs_df.columns:\n",
    "        Drugs_df = Drugs_df.withColumnRenamed(old_col, new_col)\n",
    "\n",
    "# display(Drugs_df.limit(10))\n"
   ]
  },
  {
   "cell_type": "markdown",
   "metadata": {
    "application/vnd.databricks.v1+cell": {
     "cellMetadata": {
      "byteLimit": 2048000,
      "rowLimit": 10000
     },
     "inputWidgets": {},
     "nuid": "0b6bc72d-c2d1-42d0-8aec-bb24a0e21f6f",
     "showTitle": false,
     "tableResultSettingsMap": {},
     "title": ""
    }
   },
   "source": [
    "Logic for the \"Change_in_Average_Total_Spending_Per_Dosage_Unit_(2021-2022)\" Column"
   ]
  },
  {
   "cell_type": "code",
   "execution_count": 0,
   "metadata": {
    "application/vnd.databricks.v1+cell": {
     "cellMetadata": {
      "byteLimit": 2048000,
      "rowLimit": 10000
     },
     "inputWidgets": {},
     "nuid": "62c5df92-027b-4d2c-a7e7-526b2acd488a",
     "showTitle": false,
     "tableResultSettingsMap": {},
     "title": ""
    }
   },
   "outputs": [],
   "source": [
    "# percent_change = (current - previous) / previous\n",
    "#percent_change = (2022 - 2021) / 2021\n",
    "\n"
   ]
  },
  {
   "cell_type": "code",
   "execution_count": 0,
   "metadata": {
    "application/vnd.databricks.v1+cell": {
     "cellMetadata": {
      "byteLimit": 2048000,
      "rowLimit": 10000
     },
     "inputWidgets": {},
     "nuid": "42dfd912-11fa-4c16-8a76-aebd4b0127ef",
     "showTitle": false,
     "tableResultSettingsMap": {},
     "title": ""
    }
   },
   "outputs": [],
   "source": [
    "# Replace null values with 0 below mentioned columns\n",
    "from pyspark.sql.functions import coalesce, lit\n",
    "\n",
    "columns_to_replace = [\n",
    "    \"2018_Total_Spending\",\n",
    "    \"2019_Total_Spending\",\n",
    "    \"2020_Total_Spending\",\n",
    "    \"2021_Total_Spending\",\n",
    "    \"2022_Total_Spending\",\n",
    "    \"2019_Total_Dosage_Units\",\n",
    "    \"2019_Total_Claims\",\n",
    "    \"2019_Average_Total_Spending_Per_Dosage_Unit_(Weighted)\",\n",
    "    \"2019_Average_Total_Spending_Per_Claim\",\n",
    "    \"2019_Outlier_Flag\",\n",
    "    \"2020_Total_Dosage_Units\",\n",
    "    \"2020_Total_Claims\",\n",
    "    \"2020_Average_Total_Spending_Per_Dosage_Unit_(Weighted)\",\n",
    "    \"2020_Average_Total_Spending_Per_Claim\",\n",
    "    \"2020_Outlier_Flag\",\n",
    "    \"2021_Total_Dosage_Units\",\n",
    "    \"2021_Total_Claims\",\n",
    "    \"2021_Average_Total_Spending_Per_Dosage_Unit_(Weighted)\",\n",
    "    \"2021_Average_Total_Spending_Per_Claim\",\n",
    "    \"2021_Outlier_Flag\",\n",
    "    \"2022_Total_Dosage_Units\",\n",
    "    \"2022_Total_Claims\",\n",
    "    \"2022_Average_Total_Spending_Per_Dosage_Unit_(Weighted)\",\n",
    "    \"2022_Average_Total_Spending_Per_Claim\",\n",
    "    \"2022_Outlier_Flag\",\n",
    "    \"2018_Total_Dosage_Units\",\n",
    "    \"2018_Total_Claims\",\n",
    "    \"2018_Average_Total_Spending_Per_Dosage_Unit_(Weighted)\",\n",
    "    \"2018_Average_Total_Spending_Per_Claim\",\n",
    "    \"2018_Outlier_Flag\",\n",
    "    \"Change_in_Average_Total_Spending_Per_Dosage_Unit_(2021-2022)\",\n",
    "    \"Annual_Growth_Rate_in_Average_Total_Spending_Per_Dosage_Unit_(2018-2022)\"\n",
    "]\n",
    "\n",
    "for col_name in columns_to_replace:\n",
    "    Drugs_df = Drugs_df.withColumn(col_name, coalesce(col(col_name), lit(0)))\n",
    "\n",
    "# display(Drugs_df.limit(10))"
   ]
  },
  {
   "cell_type": "code",
   "execution_count": 0,
   "metadata": {
    "application/vnd.databricks.v1+cell": {
     "cellMetadata": {
      "byteLimit": 2048000,
      "rowLimit": 10000
     },
     "inputWidgets": {},
     "nuid": "9c4ef012-2d7d-4fc2-a226-05959a38ce88",
     "showTitle": false,
     "tableResultSettingsMap": {},
     "title": ""
    }
   },
   "outputs": [],
   "source": [
    "from pyspark.sql import functions as F\n",
    "# Calculte the Compound Annual Growth Rate (CAGR) formular (2018-2022)\n",
    "Drugs_df = Drugs_df.withColumn(\n",
    "    \"Annual_Growth_Rate_in_Average_Total_Spending_Per_Dosage_Unit_(2018-2022)\",\n",
    "    F.when(\n",
    "        (F.col(\"2018_Average_Total_Spending_Per_Dosage_Unit_(Weighted)\") > 0) & (F.col(\"2022_Average_Total_Spending_Per_Dosage_Unit_(Weighted)\") > 0),\n",
    "        (F.pow((F.col(\"2022_Average_Total_Spending_Per_Dosage_Unit_(Weighted)\") / F.col(\"2018_Average_Total_Spending_Per_Dosage_Unit_(Weighted)\")), 1/4) - 1)\n",
    "    ).otherwise(\n",
    "        F.when(\n",
    "            (F.col(\"2019_Average_Total_Spending_Per_Dosage_Unit_(Weighted)\") > 0) & (F.col(\"2022_Average_Total_Spending_Per_Dosage_Unit_(Weighted)\") > 0),\n",
    "            (F.pow((F.col(\"2022_Average_Total_Spending_Per_Dosage_Unit_(Weighted)\") / F.col(\"2019_Average_Total_Spending_Per_Dosage_Unit_(Weighted)\")), 1/3) - 1)\n",
    "        ).otherwise(\n",
    "            F.when(\n",
    "                (F.col(\"2020_Average_Total_Spending_Per_Dosage_Unit_(Weighted)\") > 0) & (F.col(\"2022_Average_Total_Spending_Per_Dosage_Unit_(Weighted)\") > 0),\n",
    "                (F.pow((F.col(\"2022_Average_Total_Spending_Per_Dosage_Unit_(Weighted)\") / F.col(\"2020_Average_Total_Spending_Per_Dosage_Unit_(Weighted)\")), 1/2) - 1)\n",
    "            ).otherwise(\n",
    "                F.when(\n",
    "                    (F.col(\"2021_Average_Total_Spending_Per_Dosage_Unit_(Weighted)\") > 0) & (F.col(\"2022_Average_Total_Spending_Per_Dosage_Unit_(Weighted)\") > 0),\n",
    "                    (F.col(\"2022_Average_Total_Spending_Per_Dosage_Unit_(Weighted)\") / F.col(\"2021_Average_Total_Spending_Per_Dosage_Unit_(Weighted)\")) - 1\n",
    "                )\n",
    "            )\n",
    "        )\n",
    "    )\n",
    ")"
   ]
  },
  {
   "cell_type": "code",
   "execution_count": 0,
   "metadata": {
    "application/vnd.databricks.v1+cell": {
     "cellMetadata": {
      "byteLimit": 2048000,
      "rowLimit": 10000
     },
     "inputWidgets": {},
     "nuid": "24082200-7f18-45fc-9b25-7269fbe49df6",
     "showTitle": false,
     "tableResultSettingsMap": {},
     "title": ""
    }
   },
   "outputs": [],
   "source": [
    "Drugs_df = Drugs_df.withColumn(\n",
    "    \"Annual_Growth_Rate_in_Average_Total_Spending_Per_Dosage_Unit_(2018-2022)\",\n",
    "    coalesce(F.col(\"Annual_Growth_Rate_in_Average_Total_Spending_Per_Dosage_Unit_(2018-2022)\"), lit(0))\n",
    ")\n"
   ]
  },
  {
   "cell_type": "code",
   "execution_count": 0,
   "metadata": {
    "application/vnd.databricks.v1+cell": {
     "cellMetadata": {
      "byteLimit": 2048000,
      "rowLimit": 10000
     },
     "inputWidgets": {},
     "nuid": "43b0be93-9e35-4cf5-8e9a-e0233ea74fd4",
     "showTitle": false,
     "tableResultSettingsMap": {},
     "title": ""
    }
   },
   "outputs": [],
   "source": [
    "# from pyspark.sql.functions import col, sum\n",
    "\n",
    "# # Check for null values in each column\n",
    "# null_counts = Drugs_df.select([sum(col(c).isNull().cast(\"int\")).alias(c) for c in Drugs_df.columns])\n",
    "\n",
    "# display(null_counts)"
   ]
  },
  {
   "cell_type": "markdown",
   "metadata": {
    "application/vnd.databricks.v1+cell": {
     "cellMetadata": {
      "byteLimit": 2048000,
      "rowLimit": 10000
     },
     "inputWidgets": {},
     "nuid": "7ff932fc-d6a8-461b-b3a6-9685935ff791",
     "showTitle": false,
     "tableResultSettingsMap": {},
     "title": ""
    }
   },
   "source": [
    "### 3) Medicare_DME_Devices_Supplies dataset"
   ]
  },
  {
   "cell_type": "code",
   "execution_count": 0,
   "metadata": {
    "application/vnd.databricks.v1+cell": {
     "cellMetadata": {
      "byteLimit": 2048000,
      "rowLimit": 10000
     },
     "inputWidgets": {},
     "nuid": "f90f2014-f22e-4a0e-acb2-020c799be7b5",
     "showTitle": false,
     "tableResultSettingsMap": {},
     "title": ""
    }
   },
   "outputs": [],
   "source": [
    "Medicare_DME_DS_schema = StructType([\n",
    "    StructField(\"ï»¿Rfrg_NPI\", IntegerType(), False),\n",
    "    StructField(\"Rfrg_Prvdr_Last_Name_Org\", StringType(), True),\n",
    "    StructField(\"Rfrg_Prvdr_First_Name\", StringType(), True),\n",
    "    StructField(\"Rfrg_Prvdr_MI\", StringType(), True),\n",
    "    StructField(\"Rfrg_Prvdr_Crdntls\", StringType(), True),\n",
    "    StructField(\"Rfrg_Prvdr_Ent_Cd\", StringType(), True),\n",
    "    StructField(\"Rfrg_Prvdr_St1\", StringType(), True),\n",
    "    StructField(\"Rfrg_Prvdr_St2\", StringType(), True),\n",
    "    StructField(\"Rfrg_Prvdr_City\", StringType(), True),\n",
    "    StructField(\"Rfrg_Prvdr_State_Abrvtn\", StringType(), True),\n",
    "    StructField(\"Rfrg_Prvdr_State_FIPS\", StringType(), True),\n",
    "    StructField(\"Rfrg_Prvdr_Zip5\", StringType(), True),\n",
    "    StructField(\"Rfrg_Prvdr_RUCA_Cat\", StringType(), True),\n",
    "    StructField(\"Rfrg_Prvdr_RUCA\", DoubleType(), True),\n",
    "    StructField(\"Rfrg_Prvdr_RUCA_Desc\", StringType(), True),\n",
    "    StructField(\"Rfrg_Prvdr_Cntry\", StringType(), True),\n",
    "    StructField(\"Rfrg_Prvdr_Spclty_Cd\", DoubleType(), True),\n",
    "    StructField(\"Rfrg_Prvdr_Spclty_Desc\", StringType(), True),\n",
    "    StructField(\"Rfrg_Prvdr_Spclty_Srce\", StringType(), True),\n",
    "    StructField(\"RBCS_Lvl\", StringType(), True),\n",
    "    StructField(\"RBCS_Id\", StringType(), True),\n",
    "    StructField(\"RBCS_Desc\", StringType(), True),\n",
    "    StructField(\"HCPCS_CD\", StringType(), True),\n",
    "    StructField(\"HCPCS_Desc\", StringType(), True),\n",
    "    StructField(\"Suplr_Rentl_Ind\", StringType(), True),\n",
    "    StructField(\"Tot_Suplrs\", DoubleType(), True),\n",
    "    StructField(\"Tot_Suplr_Benes\", DoubleType(), True),\n",
    "    StructField(\"Tot_Suplr_Clms\", DoubleType(), True),\n",
    "    StructField(\"Tot_Suplr_Srvcs\", DoubleType(), True),\n",
    "    StructField(\"Avg_Suplr_Sbmtd_Chrg\", StringType(), True),\n",
    "    StructField(\"Avg_Suplr_Mdcr_Alowd_Amt\", StringType(), True),\n",
    "    StructField(\"Avg_Suplr_Mdcr_Pymt_Amt\", StringType(), True),\n",
    "    StructField(\"Avg_Suplr_Mdcr_Stdzd_Amt\", StringType(), True)\n",
    "])\n",
    "\n"
   ]
  },
  {
   "cell_type": "code",
   "execution_count": 0,
   "metadata": {
    "application/vnd.databricks.v1+cell": {
     "cellMetadata": {
      "byteLimit": 2048000,
      "rowLimit": 10000
     },
     "inputWidgets": {},
     "nuid": "6b9964d2-3657-4790-bfd4-3aa4ed21db35",
     "showTitle": false,
     "tableResultSettingsMap": {},
     "title": ""
    }
   },
   "outputs": [],
   "source": [
    "Medicare_DME_DS_df = spark.read.format(\"csv\").option(\"header\", \"true\").schema(Medicare_DME_DS_schema).load(\"/mnt/bronze/Medicare_DME_Devices_Supplies/\")\n",
    "\n",
    "# remove duplicates in Medicare_DME_DS_df\n",
    "Medicare_DME_DS_df = Medicare_DME_DS_df.dropDuplicates()\n",
    "\n",
    "# display(Medicare_DME_DS_df.limit(5))"
   ]
  },
  {
   "cell_type": "code",
   "execution_count": 0,
   "metadata": {
    "application/vnd.databricks.v1+cell": {
     "cellMetadata": {
      "byteLimit": 2048000,
      "rowLimit": 10000
     },
     "inputWidgets": {},
     "nuid": "9c8bfd13-fd11-4f15-87e5-2e4f56015118",
     "showTitle": false,
     "tableResultSettingsMap": {},
     "title": ""
    }
   },
   "outputs": [],
   "source": [
    "# # Calculate no of column in Medicare_DME_DS_df \n",
    "# num_columns = len(Medicare_DME_DS_df.columns)\n",
    "# num_columns"
   ]
  },
  {
   "cell_type": "markdown",
   "metadata": {
    "application/vnd.databricks.v1+cell": {
     "cellMetadata": {
      "byteLimit": 2048000,
      "rowLimit": 10000
     },
     "inputWidgets": {},
     "nuid": "9bb9591b-9214-4462-8a41-b1bb91308c1a",
     "showTitle": false,
     "tableResultSettingsMap": {},
     "title": ""
    }
   },
   "source": [
    "Rename Columns"
   ]
  },
  {
   "cell_type": "code",
   "execution_count": 0,
   "metadata": {
    "application/vnd.databricks.v1+cell": {
     "cellMetadata": {
      "byteLimit": 2048000,
      "rowLimit": 10000
     },
     "inputWidgets": {},
     "nuid": "d3ff18ef-ba09-4176-a93d-6901e344bbac",
     "showTitle": false,
     "tableResultSettingsMap": {},
     "title": ""
    }
   },
   "outputs": [],
   "source": [
    "column_rename_map_Medicare_DME_DS = {\n",
    "    \"ï»¿Rfrg_NPI\": \"Referring_NPI\",\n",
    "    \"Rfrg_Prvdr_Last_Name_Org\": \"Referring_Provider_Last_Name_/_Organization_Name\",\n",
    "    \"Rfrg_Prvdr_First_Name\": \"Referring_Provider_First_Name\",\n",
    "    \"Rfrg_Prvdr_MI\": \"Referring_Provider_Middle_Initial\",\n",
    "    \"Rfrg_Prvdr_Crdntls\": \"Referring_Credentials\",\n",
    "    \"Rfrg_Prvdr_Ent_Cd\": \"Referring_Entity_Code\",\n",
    "    \"Rfrg_Prvdr_St1\": \"Referring_Provider_Street_1\",\n",
    "    \"Rfrg_Prvdr_St2\": \"Referring_Provider_Street_2\",\n",
    "    \"Rfrg_Prvdr_City\": \"Referring_Provider_City\",\n",
    "    \"Rfrg_Prvdr_State_Abrvtn\": \"Referring_Provider_State\",\n",
    "    \"Rfrg_Prvdr_State_FIPS\": \"Referring_Provider_State_FIPS_Code\",\n",
    "    \"Rfrg_Prvdr_Zip5\": \"Referring_Provider_ZIP\",\n",
    "    \"Rfrg_Prvdr_RUCA_CAT\": \"Referring_Provider_RUCA_Category\",\n",
    "    \"Rfrg_Prvdr_RUCA\": \"Referring_Provider_RUCA\",\n",
    "    \"Rfrg_Prvdr_RUCA_Desc\": \"Referring_Provider_RUCA_Description\",\n",
    "    \"Rfrg_Prvdr_Cntry\": \"Referring_Provider_Country\",\n",
    "    \"Rfrg_Prvdr_Spclty_Cd\": \"Referring_Provider_Specialty_Code\",\n",
    "    \"Rfrg_Prvdr_Spclty_Desc\": \"Referring_Provider_Specialty_Description\",\n",
    "    \"Rfrg_Prvdr_Spclty_Srce\": \"Referring_Provider_Specialty_Source\",\n",
    "    \"RBCS_Lvl\": \"RBCS_Level\",\n",
    "    \"RBCS_Id\": \"RBCS_ID\",\n",
    "    \"RBCS_Desc\": \"RBCS_Description\",\n",
    "    \"HCPCS_CD\": \"HCPCS_Code\",\n",
    "    \"HCPCS_Desc\": \"HCPCS_Description\",\n",
    "    \"Suplr_Rentl_Ind\": \"Supplier_Rental_Indicator\",\n",
    "    \"Tot_Suplrs\": \"Number_of_Suppliers\",\n",
    "    \"Tot_Suplr_Benes\": \"Number_of_Supplier_Beneficiaries\",\n",
    "    \"Tot_Suplr_Clms\": \"Number_of_Supplier_Claims\",\n",
    "    \"Tot_Suplr_Srvcs\": \"Number_of_Supplier_Services\",\n",
    "    \"Avg_Suplr_Mdcr_Alowd_Amt\": \"Average_Supplier_Medicare_Allowed_Amount\",\n",
    "    \"Avg_Suplr_Mdcr_Pymt_Amt\": \"Average_Supplier_Medicare_Payment_Amount\",\n",
    "    \"Avg_Suplr_Mdcr_Stdzd_Amt\": \"Average_Supplier_Medicare_Standard_Payment_Amount\",\n",
    "    \"Avg_Suplr_Sbmtd_Chrg\": \"Average_Supplier_Submitted_Charges\"\n",
    "}\n",
    "\n",
    "# Rename the columns using the mapping\n",
    "for old_col, new_col in column_rename_map_Medicare_DME_DS.items():\n",
    "    if old_col in Medicare_DME_DS_df.columns:\n",
    "        Medicare_DME_DS_df = Medicare_DME_DS_df.withColumnRenamed(old_col, new_col)"
   ]
  },
  {
   "cell_type": "code",
   "execution_count": 0,
   "metadata": {
    "application/vnd.databricks.v1+cell": {
     "cellMetadata": {
      "byteLimit": 2048000,
      "rowLimit": 10000
     },
     "inputWidgets": {},
     "nuid": "aae669ff-c5fc-455d-9759-a9ea9cbb267b",
     "showTitle": false,
     "tableResultSettingsMap": {},
     "title": ""
    }
   },
   "outputs": [],
   "source": [
    "# Medicare_DME_DS_df.count()"
   ]
  },
  {
   "cell_type": "code",
   "execution_count": 0,
   "metadata": {
    "application/vnd.databricks.v1+cell": {
     "cellMetadata": {
      "byteLimit": 2048000,
      "rowLimit": 10000
     },
     "inputWidgets": {},
     "nuid": "cbf34c7f-ab40-4e03-9f7a-d9ac225d6586",
     "showTitle": false,
     "tableResultSettingsMap": {},
     "title": ""
    }
   },
   "outputs": [],
   "source": [
    "# Remove dollar sign and comma from the below mentioned columns and convert into double type\n",
    "from pyspark.sql.functions import regexp_replace, col\n",
    "\n",
    "columns_to_clean = [\n",
    "    \"Average_Supplier_Medicare_Allowed_Amount\",\n",
    "    \"Average_Supplier_Medicare_Payment_Amount\",\n",
    "    \"Average_Supplier_Medicare_Standard_Payment_Amount\",\n",
    "    \"Average_Supplier_Submitted_Charges\"\n",
    "]\n",
    "\n",
    "for column in columns_to_clean:\n",
    "    Medicare_DME_DS_df = Medicare_DME_DS_df.withColumn(column, regexp_replace(col(column), \"[\\\\$,]\", \"\").cast(\"double\"))\n"
   ]
  },
  {
   "cell_type": "code",
   "execution_count": 0,
   "metadata": {
    "application/vnd.databricks.v1+cell": {
     "cellMetadata": {
      "byteLimit": 2048000,
      "rowLimit": 10000
     },
     "inputWidgets": {},
     "nuid": "2c7c92c1-daa1-4b3d-b7ae-81d14aab1e6a",
     "showTitle": false,
     "tableResultSettingsMap": {},
     "title": ""
    }
   },
   "outputs": [],
   "source": [
    "# in Medicare_DME_DS_df below columns contain null vlues replace with 0\n",
    "\n",
    "from pyspark.sql.functions import coalesce, lit\n",
    "\n",
    "columns_to_replace_nulls = [\n",
    "    \"Number_of_Supplier_Beneficiaries\",\n",
    "    \"Number_of_Suppliers\",\n",
    "    \"Number_of_Supplier_Claims\",\n",
    "    \"Number_of_Supplier_Services\",\n",
    "    \"Average_Supplier_Medicare_Allowed_Amount\",\n",
    "    \"Average_Supplier_Medicare_Payment_Amount\",\n",
    "    \"Average_Supplier_Medicare_Standard_Payment_Amount\"\n",
    "]\n",
    "\n",
    "for column in columns_to_replace_nulls: \n",
    "    Medicare_DME_DS_df = Medicare_DME_DS_df.withColumn(column, coalesce(col(column), lit(0)))\n",
    "\n",
    "# display(Medicare_DME_DS_df.limit(5))"
   ]
  },
  {
   "cell_type": "code",
   "execution_count": 0,
   "metadata": {
    "application/vnd.databricks.v1+cell": {
     "cellMetadata": {
      "byteLimit": 2048000,
      "rowLimit": 10000
     },
     "inputWidgets": {},
     "nuid": "98b0bb4d-980a-4bda-92dd-6690bb7012ca",
     "showTitle": false,
     "tableResultSettingsMap": {},
     "title": ""
    }
   },
   "outputs": [],
   "source": [
    "# Check whether column contain non numerical values\n",
    "\n",
    "# from pyspark.sql.functions import col\n",
    "\n",
    "# # This regex matches valid numbers including decimals (e.g., 123, 12.34)\n",
    "# valid_number_pattern = r'^\\d+(\\.\\d+)?$'\n",
    "\n",
    "# # Filter rows that do NOT match the valid numeric format\n",
    "# non_numeric_zip_df = Medicare_DME_DS_df.filter(~col(\"Referring_Provider_Specialty_Code\").rlike(valid_number_pattern))\n",
    "\n",
    "# # Display rows that are NOT valid numbers\n",
    "# display(non_numeric_zip_df)\n"
   ]
  },
  {
   "cell_type": "code",
   "execution_count": 0,
   "metadata": {
    "application/vnd.databricks.v1+cell": {
     "cellMetadata": {
      "byteLimit": 2048000,
      "rowLimit": 10000
     },
     "inputWidgets": {},
     "nuid": "f93a8a81-2db8-43c6-aa24-3f6a4893bdba",
     "showTitle": false,
     "tableResultSettingsMap": {},
     "title": ""
    }
   },
   "outputs": [],
   "source": [
    "# from pyspark.sql.functions import col, sum\n",
    "\n",
    "# # Calculate the null count for each column\n",
    "# null_counts = Medicare_DME_DS_df.select([sum(col(c).isNull().cast(\"int\")).alias(c) for c in Medicare_DME_DS_df.columns])\n",
    "\n",
    "# # Display the null counts\n",
    "# display(null_counts)"
   ]
  },
  {
   "cell_type": "code",
   "execution_count": 0,
   "metadata": {
    "application/vnd.databricks.v1+cell": {
     "cellMetadata": {
      "byteLimit": 2048000,
      "rowLimit": 10000
     },
     "inputWidgets": {},
     "nuid": "3b187acd-ba53-4c4b-94b3-5b1b9eaf1d80",
     "showTitle": false,
     "tableResultSettingsMap": {},
     "title": ""
    }
   },
   "outputs": [],
   "source": [
    "# # Filter rows where Referring_Provider_RUCA column contains null values\n",
    "# null_referring_provider_ruca_df = Medicare_DME_DS_df.filter(col(\"Number_of_Suppliers\").isNull())\n",
    "\n",
    "# # Display the filtered rows\n",
    "# display(null_referring_provider_ruca_df)"
   ]
  },
  {
   "cell_type": "markdown",
   "metadata": {
    "application/vnd.databricks.v1+cell": {
     "cellMetadata": {
      "byteLimit": 2048000,
      "rowLimit": 10000
     },
     "inputWidgets": {},
     "nuid": "055adcff-051c-4e80-9ae4-22196f1e5eeb",
     "showTitle": false,
     "tableResultSettingsMap": {},
     "title": ""
    }
   },
   "source": [
    "## Load the transform data into silver container"
   ]
  },
  {
   "cell_type": "code",
   "execution_count": 0,
   "metadata": {
    "application/vnd.databricks.v1+cell": {
     "cellMetadata": {
      "byteLimit": 2048000,
      "rowLimit": 10000
     },
     "inputWidgets": {},
     "nuid": "e928f18d-4161-4a47-a5f9-22423e627957",
     "showTitle": false,
     "tableResultSettingsMap": {},
     "title": ""
    }
   },
   "outputs": [],
   "source": [
    "# Load Claims_df into silver container \n",
    "\n",
    "Claims_df.write.format(\"parquet\")\\\n",
    ".mode(\"overwrite\")\\\n",
    ".option(\"path\",\"/mnt/silver/Claims\")\\\n",
    ".save()"
   ]
  },
  {
   "cell_type": "code",
   "execution_count": 0,
   "metadata": {
    "application/vnd.databricks.v1+cell": {
     "cellMetadata": {
      "byteLimit": 2048000,
      "rowLimit": 10000
     },
     "inputWidgets": {},
     "nuid": "ae847608-42a9-4b00-8beb-03c05c06b0c0",
     "showTitle": false,
     "tableResultSettingsMap": {},
     "title": ""
    }
   },
   "outputs": [],
   "source": [
    "# Load Drugs_df into silver container \n",
    "\n",
    "Drugs_df.write.format(\"parquet\")\\\n",
    ".mode(\"overwrite\")\\\n",
    ".option(\"path\",\"/mnt/silver/Drugs\")\\\n",
    ".save()"
   ]
  },
  {
   "cell_type": "code",
   "execution_count": 0,
   "metadata": {
    "application/vnd.databricks.v1+cell": {
     "cellMetadata": {
      "byteLimit": 2048000,
      "rowLimit": 10000
     },
     "inputWidgets": {},
     "nuid": "ef93ca11-ae06-4524-b55c-cebb161de643",
     "showTitle": false,
     "tableResultSettingsMap": {},
     "title": ""
    }
   },
   "outputs": [],
   "source": [
    "# Load Medicare_DME_DS_df into silver container \n",
    "\n",
    "Medicare_DME_DS_df.write.format(\"parquet\")\\\n",
    ".mode(\"overwrite\")\\\n",
    ".option(\"path\",\"/mnt/silver/Medicare_DME_DS\")\\\n",
    ".save()"
   ]
  }
 ],
 "metadata": {
  "application/vnd.databricks.v1+notebook": {
   "computePreferences": null,
   "dashboards": [],
   "environmentMetadata": {
    "base_environment": "",
    "environment_version": "2"
   },
   "inputWidgetPreferences": null,
   "language": "python",
   "notebookMetadata": {
    "pythonIndentUnit": 4
   },
   "notebookName": "Silver_Layer(Data_transformation)",
   "widgets": {}
  },
  "language_info": {
   "name": "python"
  }
 },
 "nbformat": 4,
 "nbformat_minor": 0
}
